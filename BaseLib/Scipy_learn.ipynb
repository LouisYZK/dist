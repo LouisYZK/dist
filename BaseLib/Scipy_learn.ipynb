{
 "cells": [
  {
   "cell_type": "markdown",
   "metadata": {},
   "source": [
    "# Scipy Learning Record\n",
    "Scipy是指Scipy.org技术生态圈中的Scipy模块，此模块因为涉及学术性质较强、工科专业应用领域较强，没有其他库那么普及。且中文学习资料不多。\n",
    "\n",
    "结合Scipy特点，取其精华，弃其糟粕。将其可能会在未来数据科学用到的内容做记录。\n",
    "\n",
    "纵观Scipy模块，共包含如下子功能：\n",
    "\n",
    "- Basic functions(基础函数)\n",
    "- Special functions (scipy.special)(工科数学中常见的特殊函数)\n",
    "- Integration (scipy.integrate)(积分)\n",
    "- Optimization (scipy.optimize)(优化)\n",
    "- Interpolation (scipy.interpolate)(插值法)\n",
    "- Fourier Transforms (scipy.fftpack)(傅里叶变换)\n",
    "- Signal Processing (scipy.signal)(信号处理)\n",
    "- Linear Algebra (scipy.linalg)(线性代数)\n",
    "- Sparse Eigenvalue Problems with ARPACK(用ARPACK解决的系数矩阵特征值问题)\n",
    "- Compressed Sparse Graph Routines (scipy.sparse.csgraph)(压缩稀疏图方法)\n",
    "- Spatial data structures and algorithms (scipy.spatial)(空间数据结构和算法)\n",
    "- Statistics (scipy.stats)(统计学)\n",
    "- Multidimensional image processing (scipy.ndimage)(多维图像处理)\n",
    "- File IO (scipy.io)(文件传输接口)\n",
    "\n",
    "从包含模块可以看出，Scipy的学科性质很强，为各学科提供了相关的科学计算方法，试图实现工科生最爱的Matlab的方法。"
   ]
  },
  {
   "cell_type": "markdown",
   "metadata": {},
   "source": [
    "## Introduction\n",
    "Scipy是一个以Numpy为基础扩展的科学计算算法库，能给用户提供高级的Python交互接口和可视化接口。Scipy使得Python可以成为能与MATLAB, IDL, Octave, R-Lab, and SciLab相媲美的数据处理系统。（翻译于官方文档）"
   ]
  },
  {
   "cell_type": "markdown",
   "metadata": {
    "collapsed": true
   },
   "source": [
    "## Basic Functions\n",
    "Scipy是基于Numpy的，所以np的对象皆可以被Scipy的函数接收，下面介绍几个Np在Scipy应用中常用(需要解释的)的几个函数技巧："
   ]
  },
  {
   "cell_type": "code",
   "execution_count": 16,
   "metadata": {},
   "outputs": [
    {
     "data": {
      "text/plain": [
       "array([ 3.        ,  0.        ,  0.        ,  0.        ,  0.        ,\n",
       "        0.        , -1.        , -0.77777778, -0.55555556, -0.33333333,\n",
       "       -0.11111111,  0.11111111,  0.33333333,  0.55555556,  0.77777778,\n",
       "        1.        ])"
      ]
     },
     "execution_count": 16,
     "metadata": {},
     "output_type": "execute_result"
    }
   ],
   "source": [
    "# index tricks\n",
    "import numpy as np\n",
    "a = np.concatenate(([3], [0]*5, np.arange(-1, 1.002, 2/9.0)))\n",
    "a"
   ]
  },
  {
   "cell_type": "code",
   "execution_count": 17,
   "metadata": {},
   "outputs": [
    {
     "data": {
      "text/plain": [
       "(array([ 3.        ,  0.        ,  0.        ,  0.        ,  0.        ,\n",
       "         0.        , -1.        , -0.77777778, -0.55555556, -0.33333333,\n",
       "        -0.11111111,  0.11111111,  0.33333333,  0.55555556,  0.77777778,\n",
       "         1.        ]), True)"
      ]
     },
     "execution_count": 17,
     "metadata": {},
     "output_type": "execute_result"
    }
   ],
   "source": [
    "# r_是指按行堆积， 同理c_是按列堆积；\n",
    "# -1:1:10j 等同于 np.linspace(-1,1,10)， 不加j，10的意思是步长\n",
    "b = np.r_[[3],[0]*5,-1:1:10j] \n",
    "b, all(a==b)"
   ]
  },
  {
   "cell_type": "code",
   "execution_count": 18,
   "metadata": {},
   "outputs": [
    {
     "data": {
      "text/plain": [
       "array([[[0.        , 0.        , 0.        , 0.        ],\n",
       "        [1.66666667, 1.66666667, 1.66666667, 1.66666667],\n",
       "        [3.33333333, 3.33333333, 3.33333333, 3.33333333],\n",
       "        [5.        , 5.        , 5.        , 5.        ]],\n",
       "\n",
       "       [[0.        , 1.66666667, 3.33333333, 5.        ],\n",
       "        [0.        , 1.66666667, 3.33333333, 5.        ],\n",
       "        [0.        , 1.66666667, 3.33333333, 5.        ],\n",
       "        [0.        , 1.66666667, 3.33333333, 5.        ]]])"
      ]
     },
     "execution_count": 18,
     "metadata": {},
     "output_type": "execute_result"
    }
   ],
   "source": [
    "# mgrid函数，相当于meshgrid 只不过index的操作更加简洁（其实是更加让人难理解。。。）\n",
    "np.mgrid[0:5,0:5]\n",
    "np.mgrid[0:5:4j,0:5:4j]"
   ]
  },
  {
   "cell_type": "code",
   "execution_count": 19,
   "metadata": {},
   "outputs": [
    {
     "data": {
      "text/plain": [
       "[array([[0],\n",
       "        [1],\n",
       "        [2],\n",
       "        [3],\n",
       "        [4]]), array([[0, 1, 2, 3, 4]])]"
      ]
     },
     "execution_count": 19,
     "metadata": {},
     "output_type": "execute_result"
    }
   ],
   "source": [
    "# 如果只是想创建网格，可以使用ogrid（open grid）函数。利用Np的广播计算规则可以进行等价运算；\n",
    "# 另外这个函数比较节省内存\n",
    "np.ogrid[0:5,0:5]"
   ]
  },
  {
   "cell_type": "code",
   "execution_count": 20,
   "metadata": {},
   "outputs": [
    {
     "data": {
      "text/plain": [
       "True"
      ]
     },
     "execution_count": 20,
     "metadata": {},
     "output_type": "execute_result"
    }
   ],
   "source": [
    "# 运算是等价的\n",
    "x1 , x2 = np.mgrid[0:5,0:5]\n",
    "y1, y2 = np.ogrid[0:5,0:5]\n",
    "def func(x,y):\n",
    "    return x**2 + y**2\n",
    "(func(x1,x2) == func(y1,y2)).all()"
   ]
  },
  {
   "cell_type": "code",
   "execution_count": 21,
   "metadata": {},
   "outputs": [
    {
     "name": "stdout",
     "output_type": "stream",
     "text": [
      "   2\n",
      "3 x + 2 x + 1\n"
     ]
    }
   ],
   "source": [
    "# 多项式 Polynomals\n",
    "p = np.poly1d([3,2,1])\n",
    "# 按照幂的次数传入系数\n",
    "print(p)"
   ]
  },
  {
   "cell_type": "code",
   "execution_count": 22,
   "metadata": {},
   "outputs": [
    {
     "data": {
      "text/plain": [
       "array([-0.33333333+0.47140452j, -0.33333333-0.47140452j])"
      ]
     },
     "execution_count": 22,
     "metadata": {},
     "output_type": "execute_result"
    }
   ],
   "source": [
    "# 求根\n",
    "p.r"
   ]
  },
  {
   "cell_type": "code",
   "execution_count": 23,
   "metadata": {},
   "outputs": [
    {
     "data": {
      "text/plain": [
       "array([0.+5.55111512e-17j, 0.-5.55111512e-17j])"
      ]
     },
     "execution_count": 23,
     "metadata": {},
     "output_type": "execute_result"
    }
   ],
   "source": [
    "# 求值\n",
    "p(p.r)"
   ]
  },
  {
   "cell_type": "code",
   "execution_count": 24,
   "metadata": {},
   "outputs": [
    {
     "name": "stdout",
     "output_type": "stream",
     "text": [
      "   4      3      2\n",
      "9 x + 12 x + 10 x + 4 x + 1\n"
     ]
    }
   ],
   "source": [
    "# 运算\n",
    "print(p*p)"
   ]
  },
  {
   "cell_type": "code",
   "execution_count": 25,
   "metadata": {},
   "outputs": [
    {
     "name": "stdout",
     "output_type": "stream",
     "text": [
      "   3     2\n",
      "1 z - 6 z + 11 z - 6\n"
     ]
    }
   ],
   "source": [
    "p = np.poly1d([3,2,1],r = True, variable = 'z')\n",
    "print(p)"
   ]
  },
  {
   "cell_type": "markdown",
   "metadata": {},
   "source": [
    "解释上面的几个参数：\n",
    "\n",
    "r: root = Ture时前面传入的参数作为根，多项式就是$(x-3)(x-2)(x-1)$\n",
    "\n",
    "variable: 更换变向的表示，默认是x"
   ]
  },
  {
   "cell_type": "code",
   "execution_count": 26,
   "metadata": {},
   "outputs": [
    {
     "data": {
      "text/plain": [
       "array([3, 1, 1])"
      ]
     },
     "execution_count": 26,
     "metadata": {},
     "output_type": "execute_result"
    }
   ],
   "source": [
    "# Vectorize Class\n",
    "# 可以用来使传入标量，返回标量的Python函数可以像Np广播一样进行向量化计算\n",
    "# 如计算分段函数时：\n",
    "def func(a,b):\n",
    "    if a<b :\n",
    "        return a+b\n",
    "    else:\n",
    "        return a- b \n",
    "vect = np.vectorize(func)\n",
    "vect([1,2,4],[2,1,3])"
   ]
  },
  {
   "cell_type": "markdown",
   "metadata": {},
   "source": [
    "## Integration \n",
    "考虑到数据科学中计算积分的情况不多，只列举通用积分的形式（实际上这个库还可以计算好几种积分，高斯积分、多重积分、混合积分等）\n",
    "还可以用来解常微分方程、偏微分方程..."
   ]
  },
  {
   "cell_type": "code",
   "execution_count": 29,
   "metadata": {},
   "outputs": [
    {
     "data": {
      "text/plain": [
       "(3.0, 3.3306690738754696e-14)"
      ]
     },
     "execution_count": 29,
     "metadata": {},
     "output_type": "execute_result"
    }
   ],
   "source": [
    "from scipy.integrate import quad\n",
    "def int_func(x,a,b):\n",
    "    return a*x**2 +b \n",
    "a = 3\n",
    "b = 2\n",
    "I = quad(int_func,0,1,args = (a,b))\n",
    "I"
   ]
  },
  {
   "cell_type": "markdown",
   "metadata": {},
   "source": [
    "上面计算的积分是：\n",
    "$$\\int_0^1{ax^2+b}$$\n",
    "quad参数解释：\n",
    "- quad(fuc,下限，上限，函数参数)"
   ]
  },
  {
   "cell_type": "markdown",
   "metadata": {},
   "source": [
    "## Optimization (scipy.optimize)\n",
    "可以在[这里](https://docs.scipy.org/doc/scipy/reference/optimize.html#module-scipy.optimize)找到所有关于Optimization模块的功能函数。大致分为三大类：\n",
    "- 最优化\n",
    "- 求根\n",
    "- 线性规划"
   ]
  },
  {
   "cell_type": "markdown",
   "metadata": {},
   "source": [
    "### Unconstrained minimization of multivariate scalar functions (minimize)\n",
    "无约束的多元标量函数最小值，如Rosebrock函数，是最优化领域内有名的测试函数\n",
    "$$f(x) = \\sum_i^{N-1}100(x_i-x_{i-1}^2)^2+(1-x_{i-1})^2$$"
   ]
  },
  {
   "cell_type": "markdown",
   "metadata": {},
   "source": [
    "#### Nelder-Mead Simplex algorithm 单纯型法 (Method = 'nelder-mead')\n",
    "传统的单纯性迭代方法，因为不用梯度计算较少，但是迭代次数较多"
   ]
  },
  {
   "cell_type": "code",
   "execution_count": 39,
   "metadata": {},
   "outputs": [
    {
     "name": "stdout",
     "output_type": "stream",
     "text": [
      "Optimization terminated successfully.\n",
      "         Current function value: 0.000000\n",
      "         Iterations: 339\n",
      "         Function evaluations: 571\n"
     ]
    }
   ],
   "source": [
    "from scipy.optimize import minimize\n",
    "def min_func(x):\n",
    "    return sum(100*(x[1:]-x[:-1]**2)**2 + (1-x[:-1])**2)\n",
    "x0 = np.array([1.3, 0.7, 0.8, 1.9, 1.2])\n",
    "res = minimize(min_func,x0,method = 'nelder-mead',options={'xtol': 1e-8, 'disp': True})"
   ]
  },
  {
   "cell_type": "code",
   "execution_count": 40,
   "metadata": {},
   "outputs": [
    {
     "data": {
      "text/plain": [
       "array([1., 1., 1., 1., 1.])"
      ]
     },
     "execution_count": 40,
     "metadata": {},
     "output_type": "execute_result"
    }
   ],
   "source": [
    "res.x # 查看结果"
   ]
  },
  {
   "cell_type": "markdown",
   "metadata": {},
   "source": [
    "#### Broyden-Fletcher-Goldfarb-Shanno algorithm (Method = 'BFGS')\n",
    "这个算法算是牛顿法的扩展，主要用雅克比矩阵，需要我们自己编写求出来\n",
    "$$f(x) = \\sum_i^{N-1}100(x_i-x_{i-1}^2)^2+(1-x_{i-1})^2$$\n",
    "$$\\frac{\\partial f(x)}{\\partial x_j} = \\sum_i^{N-1}{200(x_i-x_{i-1}^2)(\\delta_{j,i}-2\\delta_{j,i-1}x_{i-1}) + 2(1-x_{i-1}\\delta_{j,i-1})}$$\n",
    "$$= 200(x_j-x_{j-1}^2) - 400x_j(x_{j+1}-x_j^2)-2(1-x_j)$$\n",
    "其中，$$\\delta_{j,i} = \\frac{\\partial f(x)}{\\partial x}$$"
   ]
  },
  {
   "cell_type": "code",
   "execution_count": 37,
   "metadata": {
    "collapsed": true
   },
   "outputs": [],
   "source": [
    "# 自行构造计算雅克比矩阵的函数：\n",
    "def rosen_der(x):\n",
    "    xm = x[1:-1]\n",
    "    xm_m1 = x[:-2]\n",
    "    xm_p1 = x[2:]\n",
    "    der = np.zeros_like(x)\n",
    "    der[1:-1] = 200*(xm-xm_m1**2) - 400*(xm_p1 - xm**2)*xm - 2*(1-xm)\n",
    "    der[0] = -400*x[0]*(x[1]-x[0]**2) - 2*(1-x[0])\n",
    "    der[-1] = 200*(x[-1]-x[-2]**2)\n",
    "    return der"
   ]
  },
  {
   "cell_type": "code",
   "execution_count": 41,
   "metadata": {},
   "outputs": [
    {
     "name": "stdout",
     "output_type": "stream",
     "text": [
      "Optimization terminated successfully.\n",
      "         Current function value: 0.000000\n",
      "         Iterations: 25\n",
      "         Function evaluations: 30\n",
      "         Gradient evaluations: 30\n"
     ]
    }
   ],
   "source": [
    "res = minimize(min_func,x0,method = 'BFGS',jac = rosen_der,options={'disp': True})"
   ]
  },
  {
   "cell_type": "code",
   "execution_count": 42,
   "metadata": {},
   "outputs": [
    {
     "data": {
      "text/plain": [
       "array([1.00000004, 1.0000001 , 1.00000021, 1.00000044, 1.00000092])"
      ]
     },
     "execution_count": 42,
     "metadata": {},
     "output_type": "execute_result"
    }
   ],
   "source": [
    "res.x"
   ]
  },
  {
   "cell_type": "markdown",
   "metadata": {},
   "source": [
    "#### Newton-Conjugate-Gradient algorithm 牛顿共轭梯度下降法 (method = 'Newton-CG')\n",
    "此方法是先将函数泰勒展开：\n",
    "$$f(x) = f(x_0) + \\nabla f(x_0)(x-x_0)+\\frac{1}{2}(x-x_0)^TH(X)(x-x_0)$$\n",
    "求导：\n",
    "$$f'(x) = \\nabla f(x)+H(x)(x-x_0) = 0$$\n",
    "得到：\n",
    "$$x_{opt} = x_0 - H^{-1}(X)\\nabla f$$\n",
    "\n",
    "所以此方法的关键在于写出求Hessen矩阵的函数"
   ]
  },
  {
   "cell_type": "code",
   "execution_count": 49,
   "metadata": {},
   "outputs": [
    {
     "name": "stdout",
     "output_type": "stream",
     "text": [
      "Optimization terminated successfully.\n",
      "         Current function value: 0.000000\n",
      "         Iterations: 24\n",
      "         Function evaluations: 33\n",
      "         Gradient evaluations: 56\n",
      "         Hessian evaluations: 24\n"
     ]
    }
   ],
   "source": [
    "# 计算Hessen矩阵的函数：\n",
    "def rosen_hess(x):\n",
    "    x = np.asarray(x)\n",
    "    H = np.diag(-400*x[:-1],1) - np.diag(400*x[:-1],-1)\n",
    "    diagonal = np.zeros_like(x)\n",
    "    diagonal[0] = 1200*x[0]**2-400*x[1]+2\n",
    "    diagonal[-1] = 200\n",
    "    diagonal[1:-1] = 202 + 1200*x[1:-1]**2 - 400*x[2:]\n",
    "    H = H + np.diag(diagonal)\n",
    "    return H\n",
    "res = minimize(min_func,x0,method = 'Newton-CG',jac = rosen_der,hess = rosen_hess,\n",
    "               options={'xtol': 1e-8, 'disp': True})"
   ]
  },
  {
   "cell_type": "code",
   "execution_count": 50,
   "metadata": {},
   "outputs": [
    {
     "data": {
      "text/plain": [
       "array([1.        , 1.        , 1.        , 0.99999999, 0.99999999])"
      ]
     },
     "execution_count": 50,
     "metadata": {},
     "output_type": "execute_result"
    }
   ],
   "source": [
    "res.x"
   ]
  },
  {
   "cell_type": "markdown",
   "metadata": {},
   "source": [
    "#### Trust-Region Newton-Conjugate-Gradient Algorithm (method='trust-ncg')\n"
   ]
  }
 ],
 "metadata": {
  "kernelspec": {
   "display_name": "Python [conda root]",
   "language": "python",
   "name": "conda-root-py"
  },
  "language_info": {
   "codemirror_mode": {
    "name": "ipython",
    "version": 3
   },
   "file_extension": ".py",
   "mimetype": "text/x-python",
   "name": "python",
   "nbconvert_exporter": "python",
   "pygments_lexer": "ipython3",
   "version": "3.6.2"
  }
 },
 "nbformat": 4,
 "nbformat_minor": 2
}
