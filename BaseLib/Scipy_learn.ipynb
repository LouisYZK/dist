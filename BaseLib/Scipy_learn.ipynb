{
 "cells": [
  {
   "cell_type": "markdown",
   "metadata": {},
   "source": [
    "# Scipy Learning Record\n",
    "Scipy是指Scipy.org技术生态圈中的Scipy模块，此模块因为涉及学术性质较强、工科专业应用领域较强，没有其他库那么普及。且中文学习资料不多。\n",
    "\n",
    "结合Scipy特点，取其精华，弃其糟粕。将其可能会在未来数据科学用到的内容做记录。\n",
    "\n",
    "纵观Scipy模块，共包含如下子模块：\n",
    "\n",
    "- Basic functions(基础函数)\n",
    "- Special functions (scipy.special)(工科数学中常见的特殊函数)\n",
    "- Integration (scipy.integrate)(积分)\n",
    "- Optimization (scipy.optimize)(优化)\n",
    "- Interpolation (scipy.interpolate)(插值法)\n",
    "- Fourier Transforms (scipy.fftpack)(傅里叶变换)\n",
    "- Signal Processing (scipy.signal)(信号处理)\n",
    "- Linear Algebra (scipy.linalg)(线性代数)\n",
    "- Sparse Eigenvalue Problems with ARPACK(用ARPACK解决的系数矩阵特征值问题)\n",
    "- Compressed Sparse Graph Routines (scipy.sparse.csgraph)(压缩稀疏图方法)\n",
    "- Spatial data structures and algorithms (scipy.spatial)(空间数据结构和算法)\n",
    "- Statistics (scipy.stats)(统计学)\n",
    "- Multidimensional image processing (scipy.ndimage)(多维图像处理)\n",
    "- File IO (scipy.io)(文件传输接口)\n",
    "\n",
    "从包含模块可以看出，Scipy的学科性质很强，为各学科提供了相关的科学计算方法，试图实现工科生最爱的Matlab的方法。"
   ]
  },
  {
   "cell_type": "markdown",
   "metadata": {},
   "source": [
    "## Introduction\n",
    "Scipy是一个以Numpy为基础扩展的科学计算算法库，能给用户提供高级的Python交互接口和可视化接口。Scipy使得Python可以成为能与MATLAB, IDL, Octave, R-Lab, and SciLab相媲美的数据处理系统。（翻译于官方文档）"
   ]
  },
  {
   "cell_type": "code",
   "execution_count": null,
   "metadata": {
    "collapsed": true
   },
   "outputs": [],
   "source": []
  }
 ],
 "metadata": {
  "kernelspec": {
   "display_name": "Python [conda root]",
   "language": "python",
   "name": "conda-root-py"
  },
  "language_info": {
   "codemirror_mode": {
    "name": "ipython",
    "version": 3
   },
   "file_extension": ".py",
   "mimetype": "text/x-python",
   "name": "python",
   "nbconvert_exporter": "python",
   "pygments_lexer": "ipython3",
   "version": "3.6.2"
  }
 },
 "nbformat": 4,
 "nbformat_minor": 2
}
