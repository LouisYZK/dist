{
 "cells": [
  {
   "cell_type": "code",
   "execution_count": 4,
   "metadata": {
    "slideshow": {
     "slide_type": "-"
    }
   },
   "outputs": [
    {
     "name": "stdout",
     "output_type": "stream",
     "text": [
      " "
     ]
    }
   ],
   "source": [
    "# profile \n",
    "def list_sum(N):\n",
    "    total = 0\n",
    "    for i in range(5):\n",
    "        le = [j^(j<<N) for j in range(N) ]\n",
    "        total += sum(le)\n",
    "    return total\n",
    "%prun list_sum(10000)"
   ]
  },
  {
   "cell_type": "code",
   "execution_count": 8,
   "metadata": {},
   "outputs": [
    {
     "name": "stdout",
     "output_type": "stream",
     "text": [
      "The line_profiler extension is already loaded. To reload it, use:\n",
      "  %reload_ext line_profiler\n"
     ]
    }
   ],
   "source": [
    "# line by line profiler\n",
    "%load_ext line_profiler\n",
    "%lprun -f list_sum list_sum(10000)"
   ]
  },
  {
   "cell_type": "code",
   "execution_count": 10,
   "metadata": {},
   "outputs": [
    {
     "name": "stdout",
     "output_type": "stream",
     "text": [
      "The memory_profiler extension is already loaded. To reload it, use:\n",
      "  %reload_ext memory_profiler\n",
      "peak memory: 90.88 MiB, increment: 24.11 MiB\n"
     ]
    }
   ],
   "source": [
    "# memory profiler\n",
    "%load_ext memory_profiler\n",
    "%memit list_sum(10000)\n",
    "# We can see the above function use usually 90M mem"
   ]
  },
  {
   "cell_type": "markdown",
   "metadata": {},
   "source": [
    "## Chapter 2 Numpy"
   ]
  },
  {
   "cell_type": "code",
   "execution_count": 12,
   "metadata": {},
   "outputs": [
    {
     "data": {
      "text/plain": [
       "'1.13.1'"
      ]
     },
     "execution_count": 12,
     "metadata": {},
     "output_type": "execute_result"
    }
   ],
   "source": [
    "import numpy as np\n",
    "np.__version__"
   ]
  },
  {
   "cell_type": "markdown",
   "metadata": {},
   "source": [
    "### ndarray静态数组对比动态数组的区别与优势"
   ]
  },
  {
   "cell_type": "markdown",
   "metadata": {},
   "source": [
    "书中关于静态语言与动态语言变量名的实质阐述：\n",
    "\n",
    "Notice the difference here: a C integer is essentially a label for a position in memory\n",
    "whose bytes encode an integer value. A Python integer is a pointer to a position in\n",
    "memory containing all the Python object information, including the bytes that con‐\n",
    "tain the integer value. This extra information in the Python integer structure is what\n",
    "allows Python to be coded so freely and dynamically. All this additional information\n",
    "in Python types comes at a cost, however, which becomes especially apparent in\n",
    "structures that combine many of these objects.\n",
    "\n",
    "就是说Python的变量名其实是变量的Info，相当于指针在存储；\n",
    "\n",
    "那么python最常用的容器list，可以随意加入各种类型，那每个item也就自然而然地带有Info:\n",
    "\n",
    "![](https://ws1.sinaimg.cn/large/6af92b9fly1fw8ra16jo1j20lu0fmmzp.jpg)"
   ]
  },
  {
   "cell_type": "code",
   "execution_count": 16,
   "metadata": {},
   "outputs": [
    {
     "data": {
      "text/plain": [
       "(array('i', [1, 2, 3, 4]), int)"
      ]
     },
     "execution_count": 16,
     "metadata": {},
     "output_type": "execute_result"
    }
   ],
   "source": [
    "# python其实是自带有跟C静态数组一样的数据结构的：\n",
    "import array\n",
    "le = [1,2,3,4]\n",
    "arr = array.array('i',le)\n",
    "arr, type(arr[1])"
   ]
  },
  {
   "cell_type": "markdown",
   "metadata": {},
   "source": [
    "### np 创建数组，再回顾一些不熟悉的方法"
   ]
  },
  {
   "cell_type": "code",
   "execution_count": 18,
   "metadata": {},
   "outputs": [
    {
     "data": {
      "text/plain": [
       "array([[-2.31956858,  0.92968751, -0.53481068],\n",
       "       [-1.32289302,  1.56121276,  0.00489502],\n",
       "       [-0.6766784 , -1.59946592, -0.71613696]])"
      ]
     },
     "execution_count": 18,
     "metadata": {},
     "output_type": "execute_result"
    }
   ],
   "source": [
    "# mean 0, std(standard deviation 1) size(3,3)\n",
    "np.random.normal(0,1,(3,3))"
   ]
  },
  {
   "cell_type": "code",
   "execution_count": 20,
   "metadata": {},
   "outputs": [
    {
     "data": {
      "text/plain": [
       "array([[ 0.95957118,  0.00446075,  0.10481677],\n",
       "       [ 0.76487344,  0.05631943,  0.99215533],\n",
       "       [ 0.59814842,  0.81686626,  0.02025041]])"
      ]
     },
     "execution_count": 20,
     "metadata": {},
     "output_type": "execute_result"
    }
   ],
   "source": [
    "# value range:[0,1] default:\n",
    "np.random.random((3,3))"
   ]
  },
  {
   "cell_type": "code",
   "execution_count": 23,
   "metadata": {},
   "outputs": [
    {
     "data": {
      "text/plain": [
       "array([[9, 9, 7],\n",
       "       [6, 9, 8],\n",
       "       [1, 3, 4]])"
      ]
     },
     "execution_count": 23,
     "metadata": {},
     "output_type": "execute_result"
    }
   ],
   "source": [
    "# int type\n",
    "np.random.randint(0,10,(3,3))"
   ]
  },
  {
   "cell_type": "code",
   "execution_count": 25,
   "metadata": {},
   "outputs": [
    {
     "data": {
      "text/plain": [
       "array([[ 3.14,  3.14,  3.14,  3.14],\n",
       "       [ 3.14,  3.14,  3.14,  3.14],\n",
       "       [ 3.14,  3.14,  3.14,  3.14]])"
      ]
     },
     "execution_count": 25,
     "metadata": {},
     "output_type": "execute_result"
    }
   ],
   "source": [
    "# create same-value matrix:\n",
    "np.full((3,4),3.14)"
   ]
  },
  {
   "cell_type": "markdown",
   "metadata": {},
   "source": [
    "### ndarray 的attributes"
   ]
  },
  {
   "cell_type": "code",
   "execution_count": 28,
   "metadata": {},
   "outputs": [
    {
     "name": "stdout",
     "output_type": "stream",
     "text": [
      "item size: 4 bytes\n",
      "nbytes: 108 bytes\n"
     ]
    }
   ],
   "source": [
    "# 熟悉的有size,shape,dtype,ndim,等\n",
    "np.random.seed(0)\n",
    "A = np.random.randint(0,10,(3,3,3))\n",
    "print(\"item size:\",A.itemsize,\"bytes\")\n",
    "print(\"nbytes:\",A.nbytes,\"bytes\")"
   ]
  },
  {
   "cell_type": "markdown",
   "metadata": {},
   "source": [
    "### slice and copy\n",
    "A[start:end:step]"
   ]
  },
  {
   "cell_type": "code",
   "execution_count": 38,
   "metadata": {},
   "outputs": [],
   "source": [
    "A_sub = A[:2,:2] #取出某块 修改无效\n",
    "A_sub_copy =A[:2,:2].copy() #复制某块，修改有效"
   ]
  },
  {
   "cell_type": "markdown",
   "metadata": {},
   "source": [
    "### concatenation & split"
   ]
  },
  {
   "cell_type": "code",
   "execution_count": 39,
   "metadata": {},
   "outputs": [
    {
     "data": {
      "text/plain": [
       "array([1, 2, 3, 3, 4, 5])"
      ]
     },
     "execution_count": 39,
     "metadata": {},
     "output_type": "execute_result"
    }
   ],
   "source": [
    "# 要注意 concatenate方法和 vstack/hstack的区别\n",
    "# 合并同一纬度：\n",
    "x1 = np.array([1,2,3])\n",
    "x2 = np.array([3,4,5])\n",
    "np.concatenate([x1,x2])"
   ]
  },
  {
   "cell_type": "code",
   "execution_count": 43,
   "metadata": {},
   "outputs": [
    {
     "data": {
      "text/plain": [
       "array([[1, 2, 3],\n",
       "       [4, 5, 6]])"
      ]
     },
     "execution_count": 43,
     "metadata": {},
     "output_type": "execute_result"
    }
   ],
   "source": [
    "x1 = np.array([[1,2,3]])\n",
    "x2 = np.array([[4,5,6]])\n",
    "np.concatenate([x1,x2],axis = 0)"
   ]
  },
  {
   "cell_type": "code",
   "execution_count": 45,
   "metadata": {},
   "outputs": [
    {
     "data": {
      "text/plain": [
       "array([[1, 2, 3],\n",
       "       [3, 4, 5],\n",
       "       [6, 7, 8]])"
      ]
     },
     "execution_count": 45,
     "metadata": {},
     "output_type": "execute_result"
    }
   ],
   "source": [
    "# 合并不同维度使用stack:\n",
    "x1 = np.array([1,2,3])\n",
    "x2 = np.array([[3,4,5],[6,7,8]])\n",
    "np.vstack((x1,x2))"
   ]
  },
  {
   "cell_type": "markdown",
   "metadata": {},
   "source": [
    "### ufunc"
   ]
  },
  {
   "cell_type": "code",
   "execution_count": 50,
   "metadata": {},
   "outputs": [
    {
     "data": {
      "text/plain": [
       "(array([ 1,  3,  6, 10, 15, 21, 28, 36, 45], dtype=int32),\n",
       " 362880,\n",
       " array([     1,      2,      6,     24,    120,    720,   5040,  40320,\n",
       "        362880], dtype=int32))"
      ]
     },
     "execution_count": 50,
     "metadata": {},
     "output_type": "execute_result"
    }
   ],
   "source": [
    "# 记录几个不熟悉但有用的ufunc：\n",
    "# 累积和\n",
    "x = np.arange(1,10)\n",
    "x_cum = np.cumsum(x)\n",
    "x_prod = np.prod(x)\n",
    "x_prod_cum = np.cumprod(x)\n",
    "x_cum, x_prod,x_prod_cum"
   ]
  },
  {
   "cell_type": "markdown",
   "metadata": {},
   "source": [
    "### Fancy Indexing\n",
    "返回Index shape的数组"
   ]
  },
  {
   "cell_type": "code",
   "execution_count": 57,
   "metadata": {},
   "outputs": [
    {
     "data": {
      "text/plain": [
       "array([[2, 4],\n",
       "       [0, 1]])"
      ]
     },
     "execution_count": 57,
     "metadata": {},
     "output_type": "execute_result"
    }
   ],
   "source": [
    "X = np.arange(10)\n",
    "ind = np.array([[2,4],[0,1]]) \n",
    "X[ind] # 按照Ind 的shape返回矩阵，而不是参照X!"
   ]
  },
  {
   "cell_type": "markdown",
   "metadata": {},
   "source": [
    "### Example 随机选择"
   ]
  },
  {
   "cell_type": "code",
   "execution_count": 72,
   "metadata": {},
   "outputs": [
    {
     "data": {
      "image/png": "[encoded data removed]",
      "text/plain": [
       "<Figure size 432x288 with 1 Axes>"
      ]
     },
     "metadata": {},
     "output_type": "display_data"
    }
   ],
   "source": [
    "mean = [0,0]\n",
    "cov = [[1,2],[2,5]]\n",
    "X = np.random.multivariate_normal(mean, cov, 100)\n",
    "import matplotlib.pyplot as  plt\n",
    "import seaborn as sns\n",
    "sns.set()\n",
    "plt.scatter(X[:,0],X[:,1])\n",
    "plt.show()"
   ]
  },
  {
   "cell_type": "code",
   "execution_count": 65,
   "metadata": {},
   "outputs": [
    {
     "data": {
      "text/plain": [
       "array([46, 91, 25, 98, 55, 86, 24, 72,  1, 58,  8, 69, 49, 77, 84, 66, 92,\n",
       "       88, 31, 99])"
      ]
     },
     "execution_count": 65,
     "metadata": {},
     "output_type": "execute_result"
    }
   ],
   "source": [
    "ind = np.random.choice(X.shape[0],20,replace = False)\n",
    "ind"
   ]
  },
  {
   "cell_type": "code",
   "execution_count": 76,
   "metadata": {},
   "outputs": [
    {
     "data": {
      "image/png": "[encoded data removed]",
      "text/plain": [
       "<Figure size 432x288 with 1 Axes>"
      ]
     },
     "metadata": {},
     "output_type": "display_data"
    }
   ],
   "source": [
    "selections = X[ind]\n",
    "plt.scatter(X[:,0],X[:,1],alpha = 0.3)\n",
    "plt.scatter(selections[:,0],selections[:,1],facecolor = 'none',s= 200,edgecolors= 'b')\n",
    "plt.show()"
   ]
  },
  {
   "cell_type": "markdown",
   "metadata": {},
   "source": [
    "### Example2： Binning Data"
   ]
  },
  {
   "cell_type": "code",
   "execution_count": 85,
   "metadata": {},
   "outputs": [
    {
     "data": {
      "image/png": "[encoded data removed]",
      "text/plain": [
       "<Figure size 432x288 with 1 Axes>"
      ]
     },
     "metadata": {},
     "output_type": "display_data"
    }
   ],
   "source": [
    "np.random.seed(40)\n",
    "x = np.random.randn(100)\n",
    "bins = np.linspace(-5,5,20)\n",
    "counts = np.zeros_like(bins)\n",
    "i = np.searchsorted(bins,x)\n",
    "np.add.at(counts,i,1) # 在i的位置上+1\n",
    "plt.plot(bins,counts,linestyle = 'steps')\n",
    "plt.show()"
   ]
  },
  {
   "cell_type": "code",
   "execution_count": 89,
   "metadata": {},
   "outputs": [
    {
     "data": {
      "text/plain": [
       "(array([  0.,   0.,   0.,   0.,   1.,   3.,   7.,  10.,  16.,  25.,  18.,\n",
       "         12.,   6.,   2.,   0.,   0.,   0.,   0.,   0.]),\n",
       " array([-5.        , -4.47368421, -3.94736842, -3.42105263, -2.89473684,\n",
       "        -2.36842105, -1.84210526, -1.31578947, -0.78947368, -0.26315789,\n",
       "         0.26315789,  0.78947368,  1.31578947,  1.84210526,  2.36842105,\n",
       "         2.89473684,  3.42105263,  3.94736842,  4.47368421,  5.        ]),\n",
       " <a list of 1 Patch objects>)"
      ]
     },
     "execution_count": 89,
     "metadata": {},
     "output_type": "execute_result"
    },
    {
     "data": {
      "image/png": "[encoded data removed]",
      "text/plain": [
       "<Figure size 432x288 with 1 Axes>"
      ]
     },
     "metadata": {},
     "output_type": "display_data"
    }
   ],
   "source": [
    "# 当然会有更简单的API绘制bin图\n",
    "plt.hist(x,bins,histtype = 'step',color = 'black')"
   ]
  },
  {
   "cell_type": "code",
   "execution_count": null,
   "metadata": {
    "collapsed": true
   },
   "outputs": [],
   "source": []
  }
 ],
 "metadata": {
  "kernelspec": {
   "display_name": "Python [conda root]",
   "language": "python",
   "name": "conda-root-py"
  },
  "language_info": {
   "codemirror_mode": {
    "name": "ipython",
    "version": 3
   },
   "file_extension": ".py",
   "mimetype": "text/x-python",
   "name": "python",
   "nbconvert_exporter": "python",
   "pygments_lexer": "ipython3",
   "version": "3.6.6"
  }
 },
 "nbformat": 4,
 "nbformat_minor": 2
}
