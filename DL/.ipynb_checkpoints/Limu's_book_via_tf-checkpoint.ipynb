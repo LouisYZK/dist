{
 "cells": [
  {
   "cell_type": "markdown",
   "metadata": {},
   "source": [
    "# Limu's book via Tensorflow"
   ]
  },
  {
   "cell_type": "markdown",
   "metadata": {
    "collapsed": true
   },
   "source": [
    "## Ch3 深度学习计算基础\n",
    "### Linear Regression\n",
    "$$\n",
    "\\hat{\\boldsymbol{y}}=\\boldsymbol{X} \\boldsymbol{w}+b\n",
    "$$\n",
    "$$\n",
    "\\ell(\\boldsymbol{\\theta})=\\frac{1}{2 n}(\\hat{\\boldsymbol{y}}-\\boldsymbol{y})^{\\top}(\\hat{\\boldsymbol{y}}-\\boldsymbol{y})\n",
    "$$\n",
    "$$\n",
    "\\boldsymbol{\\theta} \\leftarrow \\boldsymbol{\\theta}-\\frac{\\eta}{|\\mathcal{B}|} \\sum_{i \\in \\mathcal{B}} \\nabla_{\\boldsymbol{\\theta}} \\ell^{(i)}(\\boldsymbol{\\theta})\n",
    "$$"
   ]
  },
  {
   "cell_type": "markdown",
   "metadata": {},
   "source": [
    "**tf求梯度**\n",
    "同样tf也可以手动求梯度："
   ]
  },
  {
   "cell_type": "code",
   "execution_count": 50,
   "metadata": {},
   "outputs": [
    {
     "data": {
      "text/plain": [
       "[3.0]"
      ]
     },
     "execution_count": 50,
     "metadata": {},
     "output_type": "execute_result"
    }
   ],
   "source": [
    "import tensorflow as tf\n",
    "a = tf.constant(1.)\n",
    "b = a**2\n",
    "# 考虑b对a的影响：\n",
    "g = tf.gradients(a + b, [a])\n",
    "sess = tf.Session()\n",
    "sess.run(g)\n",
    "# 注意返回的是list of tensor!"
   ]
  },
  {
   "cell_type": "code",
   "execution_count": 51,
   "metadata": {},
   "outputs": [
    {
     "data": {
      "text/plain": [
       "[1.0]"
      ]
     },
     "execution_count": 51,
     "metadata": {},
     "output_type": "execute_result"
    }
   ],
   "source": [
    "# 不考虑b对a的影响，将b视作常量\n",
    "g2 = tf.gradients(a + b, [a], stop_gradients=[b])\n",
    "sess.run(g2)"
   ]
  },
  {
   "cell_type": "markdown",
   "metadata": {},
   "source": [
    "#### 手动线性回归"
   ]
  },
  {
   "cell_type": "code",
   "execution_count": 52,
   "metadata": {},
   "outputs": [
    {
     "data": {
      "image/png": "[encoded data removed]",
      "text/plain": [
       "<Figure size 432x288 with 1 Axes>"
      ]
     },
     "metadata": {},
     "output_type": "display_data"
    }
   ],
   "source": [
    "import numpy as np\n",
    "# prepare data\n",
    "num_inputs = 2\n",
    "num_examples = 1000\n",
    "true_w = [2, -3.4]\n",
    "true_b = 4.2\n",
    "features = np.random.normal(size=[num_examples, num_inputs])\n",
    "labels = np.dot(features, true_w) + true_b\n",
    "labels += np.random.normal(scale=0.01, size=labels.shape)\n",
    "\n",
    "import matplotlib.pyplot as plt\n",
    "from mpl_toolkits import  mplot3d\n",
    "plt.style.use('ggplot')\n",
    "ax = plt.axes(projection='3d')\n",
    "ax.scatter3D(features[:, 0], features[:, 1], labels)\n",
    "plt.show()"
   ]
  },
  {
   "cell_type": "code",
   "execution_count": 53,
   "metadata": {
    "collapsed": true
   },
   "outputs": [],
   "source": [
    "# 手动的data_iterator\n",
    "def data_iterator(batch_size, features, labels, shuffle=False):\n",
    "    indices = np.arange(features.shape[0])\n",
    "    if shuffle:\n",
    "        indices = np.shuffle(indices)\n",
    "    for i in range(0, features.shape[0], batch_size):\n",
    "        yield features[indices[i: i + batch_size]], labels[indices[i: i + batch_size]]"
   ]
  },
  {
   "cell_type": "code",
   "execution_count": 54,
   "metadata": {},
   "outputs": [
    {
     "name": "stdout",
     "output_type": "stream",
     "text": [
      "loss: 10.23107\n",
      "loss: 2.9993453\n",
      "loss: 0.8807621\n",
      "loss: 0.2590748\n",
      "loss: 0.076355584\n",
      "loss: 0.022574937\n",
      "loss: 0.0067253383\n",
      "loss: 0.002050049\n",
      "loss: 0.00067045016\n",
      "loss: 0.0002636409\n",
      "evaluate W: [[ 1.9976987]\n",
      " [-3.3911362]] \n",
      " evaluate b: [4.1904993]\n",
      "true W: [2, -3.4] \n",
      " true b: 4.2\n"
     ]
    }
   ],
   "source": [
    "# 手动梯度更新的线性回归\n",
    "num_episode = 10\n",
    "lr = 0.03\n",
    "batch_size = 100\n",
    "def lin_reg(sess):\n",
    "#     定义tensor与op:\n",
    "    X_train = tf.placeholder(tf.float32, [None, num_inputs], name='X')\n",
    "    y_train = tf.placeholder(tf.float32, [None, 1], name='y')\n",
    "    W = tf.Variable(initial_value=np.random.normal(0, 0.1, [num_inputs, 1]),\n",
    "                                                   dtype=tf.float32, name='W')\n",
    "    b = tf.Variable(initial_value=np.random.normal(0, 0.1, [1]),\n",
    "                                                   dtype=tf.float32, name='b')\n",
    "    target = tf.matmul(X_train, W) + b \n",
    "    loss = tf.reduce_mean(tf.squared_difference(y_train, target))\n",
    "    \n",
    "#     手动显示地计算梯度、跟新参数\n",
    "    grad_W = tf.gradients(loss, [W])\n",
    "    grad_b = tf.gradients(loss, [b])\n",
    "    update_W = tf.assign_sub(W, lr * grad_W[0])\n",
    "    update_b = tf.assign_sub(b, lr * grad_b[0])\n",
    "    \n",
    "    sess.run(tf.global_variables_initializer())\n",
    "    for i in range(num_episode):\n",
    "        for X, y in data_iterator(batch_size, features, labels):\n",
    "            feed_dict = {\n",
    "                X_train: X,\n",
    "                y_train: y.reshape(-1, 1)\n",
    "            }\n",
    "            loss_his, _, _ = sess.run([loss, update_W, update_b], feed_dict=feed_dict)\n",
    "        print('loss:', loss_his)\n",
    "    print('evaluate W:',sess.run(W),'\\n evaluate b:',sess.run(b))\n",
    "    print('true W:', true_w,'\\n true b:', true_b)\n",
    "lin_reg(sess)"
   ]
  },
  {
   "cell_type": "markdown",
   "metadata": {},
   "source": [
    "#### 线性回归 隐式梯度"
   ]
  },
  {
   "cell_type": "code",
   "execution_count": 56,
   "metadata": {},
   "outputs": [
    {
     "name": "stdout",
     "output_type": "stream",
     "text": [
      "loss: 24.817558\n",
      "loss: 20.361174\n",
      "loss: 16.507885\n",
      "loss: 13.249066\n",
      "loss: 10.543312\n",
      "loss: 8.329789\n",
      "loss: 6.540161\n",
      "loss: 5.106672\n",
      "loss: 3.9668438\n",
      "loss: 3.065807\n",
      "loss: 2.3570042\n",
      "loss: 1.8019108\n",
      "loss: 1.3691593\n",
      "loss: 1.0334543\n",
      "loss: 0.77448714\n",
      "loss: 0.5759771\n",
      "loss: 0.42487755\n",
      "loss: 0.31074718\n",
      "loss: 0.22525173\n",
      "loss: 0.16176802\n",
      "loss: 0.11506354\n",
      "loss: 0.08103535\n",
      "loss: 0.056491543\n",
      "loss: 0.038973488\n",
      "loss: 0.026604978\n",
      "loss: 0.017969025\n",
      "loss: 0.012008108\n",
      "loss: 0.00794162\n",
      "loss: 0.0052008443\n",
      "loss: 0.0033762222\n",
      "loss: 0.0021766785\n",
      "loss: 0.0013981893\n",
      "loss: 0.0008996358\n",
      "loss: 0.0005846117\n",
      "loss: 0.00038829548\n",
      "loss: 0.00026777596\n",
      "loss: 0.00019492283\n",
      "loss: 0.00015159608\n",
      "loss: 0.00012628682\n",
      "loss: 0.0001117937\n",
      "loss: 0.00010368749\n",
      "loss: 9.928392e-05\n",
      "loss: 9.697294e-05\n",
      "loss: 9.5824646e-05\n",
      "loss: 9.5295596e-05\n",
      "loss: 9.508674e-05\n",
      "loss: 9.503211e-05\n",
      "loss: 9.5046445e-05\n",
      "loss: 9.508518e-05\n",
      "loss: 9.512701e-05\n",
      "evaluate W: [[ 2.0002182]\n",
      " [-3.4000628]] \n",
      " evaluate b: [4.2000866]\n",
      "true W: [2, -3.4] \n",
      " true b: 4.2\n"
     ]
    }
   ],
   "source": [
    "num_episode = 50\n",
    "def lin_reg(sess):\n",
    "#     定义tensor与op:\n",
    "    X_train = tf.placeholder(tf.float32, [None, num_inputs], name='X')\n",
    "    y_train = tf.placeholder(tf.float32, [None, 1], name='y')\n",
    "    W = tf.Variable(initial_value=np.random.normal(0, 0.1, [num_inputs, 1]),\n",
    "                                                   dtype=tf.float32, name='W')\n",
    "    b = tf.Variable(initial_value=np.random.normal(0, 0.1, [1]),\n",
    "                                                   dtype=tf.float32, name='b')\n",
    "    target = tf.matmul(X_train, W) + b \n",
    "#     target = tf.layers.dense(X_train, 1, activation=None)\n",
    "    loss = tf.reduce_mean(tf.squared_difference(y_train, target))\n",
    "    \n",
    "#     隐含的自动求梯度\n",
    "    optimizer = tf.train.AdamOptimizer(learning_rate=lr)\n",
    "    train_op = optimizer.minimize(loss)\n",
    "    \n",
    "    sess.run(tf.global_variables_initializer())\n",
    "    for i in range(num_episode):\n",
    "        for X, y in data_iterator(batch_size, features, labels):\n",
    "            feed_dict = {\n",
    "                X_train: X,\n",
    "                y_train: y.reshape(-1, 1)\n",
    "            }\n",
    "            loss_his, _ = sess.run([loss, train_op], feed_dict=feed_dict)\n",
    "        print('loss:', loss_his)\n",
    "    print('evaluate W:',sess.run(W),'\\n evaluate b:',sess.run(b))\n",
    "    print('true W:', true_w,'\\n true b:', true_b)\n",
    "lin_reg(sess)"
   ]
  },
  {
   "cell_type": "markdown",
   "metadata": {
    "collapsed": true
   },
   "source": [
    "### Softmax 回归\n",
    "$$\n",
    "\\begin{aligned} \\boldsymbol{o}^{(i)} &=\\boldsymbol{x}^{(i)} \\boldsymbol{W}+\\boldsymbol{b} \\\\ \\hat{\\boldsymbol{y}}^{(i)} &=\\operatorname{softmax}\\left(\\boldsymbol{o}^{(i)}\\right) \\end{aligned}\n",
    "$$\n",
    "交叉熵损失：\n",
    "$$\n",
    "H\\left(\\boldsymbol{y}^{(i)}, \\hat{\\boldsymbol{y}}^{(i)}\\right)=-\\sum_{j=1}^{q} y_{j}^{(i)} \\log \\hat{y}_{j}^{(i)}\n",
    "$$"
   ]
  },
  {
   "cell_type": "code",
   "execution_count": 57,
   "metadata": {
    "collapsed": true
   },
   "outputs": [],
   "source": [
    "# prepare data\n",
    "# 加载手写数字\n",
    "mnist = np.load('mnist_scaled.npz')\n",
    "X_train, y_train, X_test, y_test = [mnist[f] for f in ['X_train', 'y_train', \n",
    "                                    'X_test', 'y_test']]\n",
    "del mnist"
   ]
  },
  {
   "cell_type": "code",
   "execution_count": 60,
   "metadata": {},
   "outputs": [],
   "source": [
    "num_output = 10\n",
    "num_episode = 10\n",
    "lr = 0.01\n",
    "batch_size = 100\n",
    "def softmax_clf(sess):\n",
    "    \"\"\"手工softmax回归\n",
    "    \"\"\"\n",
    "    W = tf.Variable(initial_value=np.zeros([X_train.shape[1], num_output]),\n",
    "                                           dtype=tf.float32, name='W')\n",
    "    b = tf.Variable(initial_value=np.random.normal(0.5, 0.1, [1, num_output]),\n",
    "                                                   dtype=tf.float32, name='b')\n",
    "    X = tf.placeholder(tf.float32, [None, X_train.shape[1]], name='X')\n",
    "    y = tf.placeholder(tf.uint8, [None, 1], name='y')\n",
    "    y_one_hot = tf.one_hot(y, 10)\n",
    "    \n",
    "    target = tf.nn.softmax(tf.matmul(X, W) + b)\n",
    "    cross_entropy_loss = tf.reduce_sum(tf.reduce_sum(y_one_hot * tf.log(target)))\n",
    "    \n",
    "    optimizer = tf.train.AdamOptimizer(learning_rate=lr)\n",
    "    train_op = optimizer.minimize(cross_entropy_loss)\n",
    "    \n",
    "    correct_prediction = tf.equal(tf.argmax(target, 1), tf.argmax(y_one_hot, 1))\n",
    "    accuracy = tf.reduce_mean(tf.cast(correct_prediction, \"float\"))\n",
    "    \n",
    "    sess.run(tf.global_variables_initializer())\n",
    "    \n",
    "    for i in range(num_episode):\n",
    "        for features, labels in data_iterator(100, X_train, y_train):\n",
    "            feed_dict = {\n",
    "                X: features,\n",
    "                y: labels.reshape(-1, 1)\n",
    "            }\n",
    "    \n",
    "            t, loss_his, _= sess.run([target, cross_entropy_loss, train_op], feed_dict=feed_dict)\n",
    "        print('loss:', loss_his, t)\n",
    "\n",
    "# softmax_clf(sess)"
   ]
  },
  {
   "cell_type": "markdown",
   "metadata": {},
   "source": [
    "#### softmax回归 简洁写法"
   ]
  },
  {
   "cell_type": "code",
   "execution_count": 11,
   "metadata": {},
   "outputs": [
    {
     "name": "stdout",
     "output_type": "stream",
     "text": [
      "Epoch 1/5\n",
      "60000/60000 [==============================] - 4s 66us/step - loss: 0.4409 - acc: 0.8698\n",
      "Epoch 2/5\n",
      "60000/60000 [==============================] - 4s 60us/step - loss: 0.3269 - acc: 0.9048\n",
      "Epoch 3/5\n",
      "60000/60000 [==============================] - 4s 65us/step - loss: 0.3151 - acc: 0.9093\n",
      "Epoch 4/5\n",
      "60000/60000 [==============================] - 3s 58us/step - loss: 0.3046 - acc: 0.9131\n",
      "Epoch 5/5\n",
      "60000/60000 [==============================] - 4s 64us/step - loss: 0.3001 - acc: 0.9149\n",
      "10000/10000 [==============================] - 0s 30us/step\n"
     ]
    },
    {
     "data": {
      "text/plain": [
       "[0.30634227673113346, 0.9156]"
      ]
     },
     "execution_count": 11,
     "metadata": {},
     "output_type": "execute_result"
    }
   ],
   "source": [
    "# 直接使用keras接口...\n",
    "model = tf.keras.models.Sequential([\n",
    "  tf.keras.layers.Dense(10, activation='softmax')\n",
    "])\n",
    "\n",
    "model.compile(optimizer='adam',\n",
    "              loss='sparse_categorical_crossentropy',\n",
    "              metrics=['accuracy'])\n",
    "\n",
    "model.fit(X_train, y_train, epochs=5)\n",
    "model.evaluate(X_test, y_test)"
   ]
  },
  {
   "cell_type": "markdown",
   "metadata": {},
   "source": [
    "#### 多层感知机\n",
    "多层网络、验证集、drop神经元、参数正则化等"
   ]
  },
  {
   "cell_type": "code",
   "execution_count": 23,
   "metadata": {
    "collapsed": true
   },
   "outputs": [],
   "source": [
    "model = tf.keras.Sequential([\n",
    "            tf.keras.layers.Dense(64, activation='relu', \n",
    "                         kernel_regularizer=tf.keras.regularizers.l2(0.01)),\n",
    "            tf.keras.layers.Dense(64, activation='relu'),\n",
    "            tf.keras.layers.Dropout(0.2),\n",
    "            tf.keras.layers.Dense(10, activation='softmax')])\n",
    "\n",
    "model.compile(optimizer=tf.train.AdamOptimizer(0.001),\n",
    "              loss='categorical_crossentropy',\n",
    "              metrics=['accuracy'])\n",
    "\n",
    "# model.fit(X_train, y_train, epochs=10)\n",
    "# model.evaluate(X_test, y_test)"
   ]
  },
  {
   "cell_type": "markdown",
   "metadata": {},
   "source": [
    "## Ch4 深度学习计算\n",
    "### 自定义模型"
   ]
  },
  {
   "cell_type": "code",
   "execution_count": 63,
   "metadata": {},
   "outputs": [
    {
     "name": "stdout",
     "output_type": "stream",
     "text": [
      "Epoch 1/5\n",
      "60000/60000 [==============================] - 4s 62us/step - loss: 102.5999 - acc: 0.0060\n",
      "Epoch 2/5\n",
      "60000/60000 [==============================] - 3s 50us/step - loss: 102.5556 - acc: 0.0024\n",
      "Epoch 3/5\n",
      "60000/60000 [==============================] - 3s 49us/step - loss: 102.5556 - acc: 0.0024\n",
      "Epoch 4/5\n",
      "60000/60000 [==============================] - 3s 53us/step - loss: 102.5556 - acc: 0.0024\n",
      "Epoch 5/5\n",
      "60000/60000 [==============================] - 3s 52us/step - loss: 102.5556 - acc: 0.0022\n"
     ]
    },
    {
     "data": {
      "text/plain": [
       "<tensorflow.python.keras.callbacks.History at 0x278c3c48358>"
      ]
     },
     "execution_count": 63,
     "metadata": {},
     "output_type": "execute_result"
    }
   ],
   "source": [
    "class MyModel(tf.keras.Model):\n",
    "    def __init__(self, num_classes=10):\n",
    "        super(MyModel, self).__init__(name='mymodel')\n",
    "        self.num_classes = num_classes\n",
    "#         自定义你的层,利用Keras函数式api:\n",
    "        self.dense_1 = tf.keras.layers.Dense(32, activation='relu')\n",
    "        self.dense_2 = tf.keras.layers.Dense(num_classes, activation='sigmoid')\n",
    "    \n",
    "    def call(self, inputs):\n",
    "        \"\"\"定义向前传播\n",
    "        \"\"\"\n",
    "        x = self.dense_1(inputs)\n",
    "        return self.dense_2(x)\n",
    "\n",
    "model = MyModel(num_classes=10)\n",
    "model.compile(optimizer=tf.train.RMSPropOptimizer(0.001),\n",
    "              loss='categorical_crossentropy',\n",
    "              metrics=['accuracy'])\n",
    "model.fit(X_train, y_train, batch_size=64, epochs=5)"
   ]
  },
  {
   "cell_type": "markdown",
   "metadata": {},
   "source": [
    "### 模型参数的访问、初始化和共享"
   ]
  },
  {
   "cell_type": "code",
   "execution_count": 87,
   "metadata": {},
   "outputs": [
    {
     "data": {
      "text/plain": [
       "[array([[-0.05497613],\n",
       "        [-0.1400389 ]], dtype=float32),\n",
       " array([0.02840515], dtype=float32),\n",
       " array([[-0.06589029],\n",
       "        [-0.05051171]], dtype=float32),\n",
       " array([0.07024642], dtype=float32),\n",
       " array([[0.05069179],\n",
       "        [0.19609046]], dtype=float32),\n",
       " array([-0.18519114], dtype=float32),\n",
       " array([[0.16194259],\n",
       "        [0.04851873]], dtype=float32),\n",
       " array([0.05307357], dtype=float32),\n",
       " array([[ 0.03040558],\n",
       "        [-0.04420423]], dtype=float32),\n",
       " array([-0.02908671], dtype=float32)]"
      ]
     },
     "execution_count": 87,
     "metadata": {},
     "output_type": "execute_result"
    }
   ],
   "source": [
    "with tf.variable_scope('test'):\n",
    "    model = tf.keras.Sequential([\n",
    "            tf.keras.layers.Dense(64, activation='relu', \n",
    "                         kernel_regularizer=tf.keras.regularizers.l2(0.01)),\n",
    "            tf.keras.layers.Dense(64, activation='relu'),\n",
    "            tf.keras.layers.Dropout(0.2),\n",
    "            tf.keras.layers.Dense(10, activation='softmax')])\n",
    "\n",
    "sess.run(tf.global_variables_initializer())\n",
    "sess.run(tf.get_collection(tf.GraphKeys.TRAINABLE_VARIABLES, scope='test'))"
   ]
  },
  {
   "cell_type": "code",
   "execution_count": null,
   "metadata": {
    "collapsed": true
   },
   "outputs": [],
   "source": []
  }
 ],
 "metadata": {
  "kernelspec": {
   "display_name": "Python [conda env:Anaconda]",
   "language": "python",
   "name": "conda-env-Anaconda-py"
  },
  "language_info": {
   "codemirror_mode": {
    "name": "ipython",
    "version": 3
   },
   "file_extension": ".py",
   "mimetype": "text/x-python",
   "name": "python",
   "nbconvert_exporter": "python",
   "pygments_lexer": "ipython3",
   "version": "3.6.7"
  }
 },
 "nbformat": 4,
 "nbformat_minor": 2
}
