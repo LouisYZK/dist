{
 "cells": [
  {
   "cell_type": "code",
   "execution_count": 18,
   "metadata": {},
   "outputs": [
    {
     "name": "stdout",
     "output_type": "stream",
     "text": [
      "0 <_MainThread(MainThread, started 10772)>\n",
      "0 <_MainThread(MainThread, started 10772)>\n",
      "0 <_MainThread(MainThread, started 10772)>\n",
      "0 <_MainThread(MainThread, started 10772)>\n",
      "0 <_MainThread(MainThread, started 10772)>\n",
      "0 <_MainThread(MainThread, started 10772)>\n",
      "0 <_MainThread(MainThread, started 10772)>\n",
      "0 <_MainThread(MainThread, started 10772)>\n",
      "0 <_MainThread(MainThread, started 10772)>\n"
     ]
    }
   ],
   "source": [
    "import threading \n",
    "class A(threading.Thread):\n",
    "    x = 0\n",
    "    def __init__(self):\n",
    "        threading.Thread.__init__(self)\n",
    "    def add(self,n):\n",
    "        global x\n",
    "        x = x + n\n",
    "#         x = x - n\n",
    "        print(x,threading.currentThread())\n",
    "class B(threading.Thread):\n",
    "    x = 0\n",
    "    def __init__(self):\n",
    "        threading.Thread.__init__(self)\n",
    "    def add(self,n):\n",
    "        global x\n",
    "        x = x + n**2\n",
    "#         x = x - n**2\n",
    "        print(x,threading.currentThread())\n",
    "AA = [A() for i in range(4)]\n",
    "BB = [B() for j in range(5)]\n",
    "for a in AA:\n",
    "    a.start()\n",
    "    a.add(2)\n",
    "for b in BB:\n",
    "    b.start()\n",
    "    b.add(10)\n",
    "\n",
    "import time\n",
    "time.sleep(0.1)\n",
    "\n",
    "# for a in AA:\n",
    "#     a.stop()\n",
    "# for i in range(10):\n",
    "#     for a in AA:\n",
    "#         a.join()\n",
    "#     # for b in BB:\n",
    "#     #     b.stop()\n",
    "#     for b in BB:\n",
    "#         b.join()"
   ]
  },
  {
   "cell_type": "code",
   "execution_count": 4,
   "metadata": {},
   "outputs": [],
   "source": [
    "import threading"
   ]
  }
 ],
 "metadata": {
  "kernelspec": {
   "display_name": "Python [conda root]",
   "language": "python",
   "name": "conda-root-py"
  },
  "language_info": {
   "codemirror_mode": {
    "name": "ipython",
    "version": 3
   },
   "file_extension": ".py",
   "mimetype": "text/x-python",
   "name": "python",
   "nbconvert_exporter": "python",
   "pygments_lexer": "ipython3",
   "version": "3.6.2"
  }
 },
 "nbformat": 4,
 "nbformat_minor": 2
}
