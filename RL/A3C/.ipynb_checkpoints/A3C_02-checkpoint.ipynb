{
 "cells": [
  {
   "cell_type": "code",
   "execution_count": 17,
   "metadata": {},
   "outputs": [
    {
     "name": "stdout",
     "output_type": "stream",
     "text": [
      "\u001b[33mWARN: gym.spaces.Box autodetected dtype as <class 'numpy.float32'>. Please provide explicit dtype.\u001b[0m\n",
      "\u001b[33mWARN: gym.spaces.Box autodetected dtype as <class 'numpy.float32'>. Please provide explicit dtype.\u001b[0m\n"
     ]
    }
   ],
   "source": [
    "import gym\n",
    "import itertools\n",
    "import numpy as np\n",
    "import os\n",
    "import random\n",
    "import sys\n",
    "import psutil\n",
    "import tensorflow as tf\n",
    "import multiprocessing\n",
    "GAME = 'Pendulum-v0'\n",
    "env = gym.make(GAME)"
   ]
  },
  {
   "cell_type": "code",
   "execution_count": 7,
   "metadata": {},
   "outputs": [],
   "source": [
    "N_S = env.observation_space.shape[0]\n",
    "N_A = env.action_space.shape[0]\n",
    "A_BOUND = [env.action_space.low, env.action_space.high]\n",
    "ENTROPY_BETA= 0.01"
   ]
  },
  {
   "cell_type": "code",
   "execution_count": 9,
   "metadata": {
    "collapsed": true
   },
   "outputs": [],
   "source": [
    "class ACNet():\n",
    "    def __init__(self,scope,globalAC = None):\n",
    "        if scope == 'globalNet':\n",
    "            with tf.variable_scope(scope):\n",
    "                self.s = tf.placeholder(tf.float32, [None, N_S],name = 's')\n",
    "                self.a_params, self.c_params = self._build_net(scope)[-2:]\n",
    "        else:\n",
    "            with tf.variable_scope(scope):\n",
    "                self.s = tf.placeholder(tf.float32,[None,N_S],name = 's')\n",
    "                self.a_his = tf.placeholder(tf.float32,[None,N_A],name = 'a_his')\n",
    "                self.v_target = tf.placeholder(tf.float32,[None,1],name = 'v_target')\n",
    "                mu, sigma,self.v, self.a_params, self.c_params = self._build_net(scope)\n",
    "                td = tf.subtract(self.v_target,self.v)\n",
    "                \n",
    "                with tf.name_scope('c_loss'):\n",
    "                    self.c_loss = tf.reduce_mean(tf.square(td))\n",
    "                    \n",
    "                with tf.name_scope('wrap_a_out'):\n",
    "                    mu ,sigma = mu*ACTION_BOUND[1] ,sigma + 1e-8\n",
    "                \n",
    "                norm_dist = tf.distributions.Normal(mu,sigma)\n",
    "                with tf.name_scope('a_loss'):\n",
    "                    a_prob = norm_dist.log_prob(self.a_his)\n",
    "                    self.exp_v = a_prob * tf.stop_gradient(td)\n",
    "                    entropy = norm_dist.entropy()\n",
    "                    self.exp_v = self.exp_v + entropy*ENTROPY_BETA\n",
    "                    self.a_loss = tf.reduce_mean(-self.exp_v)\n",
    "                \n",
    "                with tf.name_scope('choose_a'):\n",
    "                    self.a_choose = tf.clip_by_value(tf.squeeze(norm_dist.sample(1)),ACTION_BOUND[0],ACTION_BOUND[1])\n",
    "                \n",
    "                with tf.name_scope('local_grad'):\n",
    "                    self.a_grad = tf.gradients(self.a_loss, self.a_params)\n",
    "                    self.c_grad = tf.gradients(self.c_loss, self.c_params)\n",
    "                \n",
    "                with tf.name_scope('sync'):\n",
    "                    with tf.name_scope('push'):\n",
    "                        self.update_a_op = OPT_A.apply_gradients(zip(self.a_grad,globalAC.a_params))\n",
    "                        self.update_c_op = OPT_C.apply_gradients(zip(self.c_grad,globalAC.c_params))\n",
    "                    with tf.name_scope('pull'):\n",
    "                        self.pull_to_a_op = [l_p.assign(g_p) for l_p, g_p in zip(self.a_params,globalAC.a_params)]\n",
    "                        self.pull_to_c_op = [l_p.assign(g_p) for l_p, g_p in zip(self.c_params,globalAC.c_params)]\n",
    "    def _build_net(self,scope):\n",
    "        w_init = tf.random_normal_initializer(0.,0.1)\n",
    "        with tf.variable_scope('actor_net'):\n",
    "            l_a = tf.layers.dense(self.s,10,activation = tf.nn.relu,kernel_initializer = w_init,name = 'la')\n",
    "            mu = tf.layers.dense(l_a,N_A,activation = tf.nn.tanh, kernel_initializer = w_init,name = 'mu')\n",
    "            sigma = tf.layers.dense(l1,N_A,activation = tf.nn.softmax, kernel_initializer= w_init,name = 'sigma')\n",
    "        with tf.variable_scope('critic_net'):\n",
    "            l_c = tf.layers.dense(self.s,10,activation = tf.nn.relu,kernel_initializer = w_init,name = 'lc')\n",
    "            v = tf.layers.dense(l_c,1,activation = tf.nn.relu, kernel_initializer= w_init, name = 'v')\n",
    "        a_params = tf.get_collection(tf.GraphKeys.TRAINABLE_VARIABLES,scope = scope + '/actor_net')\n",
    "        c_params = tf.get_collection(tf.GraphKeys.TRAINABLE_VARIABLES,scope = scope + '/critic_net')\n",
    "        return mu, sigma, v, a_params, c_params\n",
    "    \n",
    "    def update_global(self,feed_dict):\n",
    "        SESS.run([self.update_a_op,self.update_c_op],feed_dict)\n",
    "    \n",
    "    def pull_global(self):\n",
    "        SESS.run([self.pull_to_a_op,self.pull_to_c_op])\n",
    "    \n",
    "    def choose_action(self,s):\n",
    "        s = s[np.newaxis,:]\n",
    "        SESS.run(self.a_choose,{self.s:s})"
   ]
  },
  {
   "cell_type": "code",
   "execution_count": 10,
   "metadata": {
    "collapsed": true
   },
   "outputs": [],
   "source": [
    "MAX_GLOBAL_EP = 2000\n",
    "MAX_EP_STEP = 200\n",
    "UPDATE_GLOBAL_ITER = 10\n",
    "GLOBAL_RUNNING_R = []\n",
    "GLOBAL_EP = 0\n",
    "GAMMA = 0.9"
   ]
  },
  {
   "cell_type": "code",
   "execution_count": 12,
   "metadata": {
    "collapsed": true
   },
   "outputs": [],
   "source": [
    "class Worker():\n",
    "    def __init__(self,name,globalAC):\n",
    "        self.name = name\n",
    "        self.env = env\n",
    "        self.AC = ACNet(self.name,globalAC)\n",
    "    def work():\n",
    "        global GLOBAL_EP\n",
    "        buffer_s, buffer_a, buffer_r = [],[],[]\n",
    "        total_step = 0\n",
    "        while total_step < MAX_GLOBAL_EP and not coord.should_stop():\n",
    "            s = self.env.reset()\n",
    "            ep_r = 0\n",
    "            for ep_t in range(MAX_EP_STEP):\n",
    "                a = self.AC.choose_action(s)\n",
    "                s_,r,done,info = self.env.step(a)\n",
    "                done = True if ep_t == MAX_EP_STEP-1 else False\n",
    "                ep_r += r\n",
    "                \n",
    "                buffer_s.append(s_)\n",
    "                buffer_a.append(a)\n",
    "                buffer.r.append(r)\n",
    "                \n",
    "                if total_step % UPDATE_GLOBAL_ITER ==0 or done:\n",
    "                    if done:\n",
    "                        v_s_ = 0\n",
    "                    else:\n",
    "                        v_s_ = SESS.run(self.AC.v,{self.AC.s:s_[np.newaxis,:]})[0,0]\n",
    "                    buffer_v_target = []\n",
    "                    for item in r[::-1]:\n",
    "                        v_s_ += item + GAMMA*v_s_\n",
    "                        buffer_v_target.append(v_s_)\n",
    "                    buffer_v_target.reverse()\n",
    "                    buffer_s, buffer_a, buffer_v_target = np.vstack(buffer_s), np.vstack(buffer_a),np.stack(buffer_v_target)\n",
    "                    feed_dict = {\n",
    "                        self.ACNet.s:buffer_s,\n",
    "                        self.ACNet.a_his:buffer_a,\n",
    "                        self.ACNet.v_target:buffer_v_target\n",
    "                    }\n",
    "                    self.ACNet.update_global(feed_dict)\n",
    "                    buffer_s ,buffer_a,buffer_r = [],[],[]\n",
    "                    self.ACNet.pull_global()\n",
    "                    \n",
    "                s = s_\n",
    "                total_step +=1\n",
    "                if done:\n",
    "                    if len(GLOBAL_RUNNING_R) == 0:  # record running episode reward\n",
    "                        GLOBAL_RUNNING_R.append(ep_r)\n",
    "                    else:\n",
    "                        GLOBAL_RUNNING_R.append(0.9 * GLOBAL_RUNNING_R[-1] + 0.1 * ep_r)\n",
    "                    print(\n",
    "                        self.name,\n",
    "                        \"Ep:\", GLOBAL_EP,\n",
    "                        \"| Ep_r: %i\" % GLOBAL_RUNNING_R[-1],\n",
    "                          )\n",
    "                    GLOBAL_EP += 1\n",
    "                    break"
   ]
  },
  {
   "cell_type": "code",
   "execution_count": 19,
   "metadata": {},
   "outputs": [
    {
     "ename": "AttributeError",
     "evalue": "module 'multiprocessing' has no attribute 'cpu_counts'",
     "output_type": "error",
     "traceback": [
      "\u001b[1;31m---------------------------------------------------------------------------\u001b[0m",
      "\u001b[1;31mAttributeError\u001b[0m                            Traceback (most recent call last)",
      "\u001b[1;32m<ipython-input-19-7a2bc2ddf319>\u001b[0m in \u001b[0;36m<module>\u001b[1;34m()\u001b[0m\n\u001b[0;32m      1\u001b[0m \u001b[0mSESS\u001b[0m \u001b[1;33m=\u001b[0m \u001b[0mtf\u001b[0m\u001b[1;33m.\u001b[0m\u001b[0mSession\u001b[0m\u001b[1;33m(\u001b[0m\u001b[1;33m)\u001b[0m\u001b[1;33m\u001b[0m\u001b[0m\n\u001b[1;32m----> 2\u001b[1;33m \u001b[0mNUM_WORKERS\u001b[0m \u001b[1;33m=\u001b[0m \u001b[0mmultiprocessing\u001b[0m\u001b[1;33m.\u001b[0m\u001b[0mcpu_counts\u001b[0m\u001b[1;33m(\u001b[0m\u001b[1;33m)\u001b[0m\u001b[1;33m\u001b[0m\u001b[0m\n\u001b[0m\u001b[0;32m      3\u001b[0m \u001b[1;32mwith\u001b[0m \u001b[0mtf\u001b[0m\u001b[1;33m.\u001b[0m\u001b[0mdevice\u001b[0m\u001b[1;33m(\u001b[0m\u001b[1;34m'/cpu:0'\u001b[0m\u001b[1;33m)\u001b[0m\u001b[1;33m:\u001b[0m\u001b[1;33m\u001b[0m\u001b[0m\n\u001b[0;32m      4\u001b[0m     \u001b[0mOPT_A\u001b[0m \u001b[1;33m=\u001b[0m \u001b[0mtf\u001b[0m\u001b[1;33m.\u001b[0m\u001b[0mtrain\u001b[0m\u001b[1;33m.\u001b[0m\u001b[0mRMSPropOptimizer\u001b[0m\u001b[1;33m(\u001b[0m\u001b[0mLR_A\u001b[0m\u001b[1;33m,\u001b[0m\u001b[0mname\u001b[0m \u001b[1;33m=\u001b[0m \u001b[1;34m'RMS_A'\u001b[0m\u001b[1;33m)\u001b[0m\u001b[1;33m\u001b[0m\u001b[0m\n\u001b[0;32m      5\u001b[0m     \u001b[0mOPT_C\u001b[0m \u001b[1;33m=\u001b[0m \u001b[0mtf\u001b[0m\u001b[1;33m.\u001b[0m\u001b[0mtrain\u001b[0m\u001b[1;33m.\u001b[0m\u001b[0mRMSPropOptimizer\u001b[0m\u001b[1;33m(\u001b[0m\u001b[0mLR_C\u001b[0m\u001b[1;33m,\u001b[0m\u001b[0mname\u001b[0m \u001b[1;33m=\u001b[0m \u001b[1;34m'RMS_C'\u001b[0m\u001b[1;33m)\u001b[0m\u001b[1;33m\u001b[0m\u001b[0m\n",
      "\u001b[1;31mAttributeError\u001b[0m: module 'multiprocessing' has no attribute 'cpu_counts'"
     ]
    }
   ],
   "source": [
    "SESS = tf.Session()\n",
    "NUM_WORKERS = multiprocessing.cpu_count()\n",
    "with tf.device('/cpu:0'):\n",
    "    OPT_A = tf.train.RMSPropOptimizer(LR_A,name = 'RMS_A')\n",
    "    OPT_C = tf.train.RMSPropOptimizer(LR_C,name = 'RMS_C')\n",
    "    GlobalNet = ACNet('global_net')\n",
    "    workers = []\n",
    "    for i in range(NUM_WORKERS):\n",
    "        name = 'worker_{0}'.format(i)\n",
    "        workers.append(Worker(name,GlobalNet))\n",
    "COORD = tf.coordinator()\n",
    "threads = []\n",
    "for worker in workers:\n",
    "    job = lambda: worker.work()\n",
    "    t = threading.Thread(target = job)\n",
    "    threads.append(t)\n",
    "COORD.join(threads)\n",
    "\n",
    "plt.plot(np.arange(len(GLOBAL_RECORDING_R)),GLOBAL_RECORDING_R)\n",
    "plt.xlabel('step')\n",
    "plt.ylabel('consum reward')\n",
    "plt.show()"
   ]
  },
  {
   "cell_type": "code",
   "execution_count": null,
   "metadata": {
    "collapsed": true
   },
   "outputs": [],
   "source": []
  }
 ],
 "metadata": {
  "kernelspec": {
   "display_name": "Python [conda env:Anaconda]",
   "language": "python",
   "name": "conda-env-Anaconda-py"
  },
  "language_info": {
   "codemirror_mode": {
    "name": "ipython",
    "version": 3
   },
   "file_extension": ".py",
   "mimetype": "text/x-python",
   "name": "python",
   "nbconvert_exporter": "python",
   "pygments_lexer": "ipython3",
   "version": "3.6.2"
  }
 },
 "nbformat": 4,
 "nbformat_minor": 2
}
