{
 "cells": [
  {
   "cell_type": "code",
   "execution_count": 19,
   "metadata": {},
   "outputs": [
    {
     "name": "stdout",
     "output_type": "stream",
     "text": [
      "2 <_MainThread(MainThread, started 10772)>\n",
      "4 <_MainThread(MainThread, started 10772)>\n",
      "6 <_MainThread(MainThread, started 10772)>\n",
      "8 <_MainThread(MainThread, started 10772)>\n",
      "108 <_MainThread(MainThread, started 10772)>\n",
      "208 <_MainThread(MainThread, started 10772)>\n",
      "308 <_MainThread(MainThread, started 10772)>\n",
      "408 <_MainThread(MainThread, started 10772)>\n",
      "508 <_MainThread(MainThread, started 10772)>\n"
     ]
    }
   ],
   "source": [
    "import threading \n",
    "class A(threading.Thread):\n",
    "    x = 0\n",
    "    def __init__(self):\n",
    "        threading.Thread.__init__(self)\n",
    "    def add(self,n):\n",
    "        global x\n",
    "        x = x + n\n",
    "#         x = x - n\n",
    "        print(x,threading.currentThread())\n",
    "class B(threading.Thread):\n",
    "    x = 0\n",
    "    def __init__(self):\n",
    "        threading.Thread.__init__(self)\n",
    "    def add(self,n):\n",
    "        global x\n",
    "        x = x + n**2\n",
    "#         x = x - n**2\n",
    "        print(x,threading.currentThread())\n",
    "AA = [A() for i in range(4)]\n",
    "BB = [B() for j in range(5)]\n",
    "for a in AA:\n",
    "    a.start()\n",
    "    a.add(2)\n",
    "for b in BB:\n",
    "    b.start()\n",
    "    b.add(10)\n",
    "\n",
    "import time\n",
    "time.sleep(0.1)\n",
    "\n",
    "# for a in AA:\n",
    "#     a.stop()\n",
    "# for i in range(10):\n",
    "#     for a in AA:\n",
    "#         a.join()\n",
    "#     # for b in BB:\n",
    "#     #     b.stop()\n",
    "#     for b in BB:\n",
    "#         b.join()"
   ]
  },
  {
   "cell_type": "code",
   "execution_count": 27,
   "metadata": {},
   "outputs": [],
   "source": [
    "import threading\n",
    "import numpy as np\n",
    "a = np.array([[1,2,3],[3,4,5]])\n",
    "a = np.vstack((a,[3,3,3]))"
   ]
  },
  {
   "cell_type": "code",
   "execution_count": 28,
   "metadata": {},
   "outputs": [
    {
     "data": {
      "text/plain": [
       "array([[1, 2, 3],\n",
       "       [3, 4, 5],\n",
       "       [3, 3, 3]])"
      ]
     },
     "execution_count": 28,
     "metadata": {},
     "output_type": "execute_result"
    }
   ],
   "source": [
    "a"
   ]
  },
  {
   "cell_type": "code",
   "execution_count": null,
   "metadata": {
    "collapsed": true
   },
   "outputs": [],
   "source": []
  }
 ],
 "metadata": {
  "kernelspec": {
   "display_name": "Python [conda root]",
   "language": "python",
   "name": "conda-root-py"
  },
  "language_info": {
   "codemirror_mode": {
    "name": "ipython",
    "version": 3
   },
   "file_extension": ".py",
   "mimetype": "text/x-python",
   "name": "python",
   "nbconvert_exporter": "python",
   "pygments_lexer": "ipython3",
   "version": "3.6.2"
  }
 },
 "nbformat": 4,
 "nbformat_minor": 2
}
