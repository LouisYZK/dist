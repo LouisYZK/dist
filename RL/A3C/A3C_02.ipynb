{
 "cells": [
  {
   "cell_type": "code",
   "execution_count": 3,
   "metadata": {},
   "outputs": [],
   "source": [
    "import gym\n",
    "import itertools\n",
    "import numpy as np\n",
    "import os\n",
    "import random\n",
    "import sys\n",
    "# import psutil\n",
    "import tensorflow as tf\n",
    "import multiprocessing\n",
    "GAME = 'Pendulum-v0'\n",
    "env = gym.make(GAME)"
   ]
  },
  {
   "cell_type": "code",
   "execution_count": 7,
   "metadata": {},
   "outputs": [],
   "source": [
    "N_S = env.observation_space.shape[0]\n",
    "N_A = env.action_space.shape[0]\n",
    "A_BOUND = [env.action_space.low, env.action_space.high]\n",
    "ENTROPY_BETA= 0.01"
   ]
  },
  {
   "cell_type": "code",
   "execution_count": 9,
   "metadata": {
    "collapsed": true
   },
   "outputs": [],
   "source": [
    "class ACNet():\n",
    "    def __init__(self,scope,globalAC = None):\n",
    "        if scope == 'globalNet':\n",
    "            with tf.variable_scope(scope):\n",
    "                self.s = tf.placeholder(tf.float32, [None, N_S],name = 's')\n",
    "                self.a_params, self.c_params = self._build_net(scope)[-2:]\n",
    "        else:\n",
    "            with tf.variable_scope(scope):\n",
    "                self.s = tf.placeholder(tf.float32,[None,N_S],name = 's')\n",
    "                self.a_his = tf.placeholder(tf.float32,[None,N_A],name = 'a_his')\n",
    "                self.v_target = tf.placeholder(tf.float32,[None,1],name = 'v_target')\n",
    "                mu, sigma,self.v, self.a_params, self.c_params = self._build_net(scope)\n",
    "                td = tf.subtract(self.v_target,self.v)\n",
    "                \n",
    "                with tf.name_scope('c_loss'):\n",
    "                    self.c_loss = tf.reduce_mean(tf.square(td))\n",
    "                    \n",
    "                with tf.name_scope('wrap_a_out'):\n",
    "                    mu ,sigma = mu*ACTION_BOUND[1] ,sigma + 1e-8\n",
    "                \n",
    "                norm_dist = tf.distributions.Normal(mu,sigma)\n",
    "                with tf.name_scope('a_loss'):\n",
    "                    a_prob = norm_dist.log_prob(self.a_his)\n",
    "                    self.exp_v = a_prob * tf.stop_gradient(td)\n",
    "                    entropy = norm_dist.entropy()\n",
    "                    self.exp_v = self.exp_v + entropy*ENTROPY_BETA\n",
    "                    self.a_loss = tf.reduce_mean(-self.exp_v)\n",
    "                \n",
    "                with tf.name_scope('choose_a'):\n",
    "                    self.a_choose = tf.clip_by_value(tf.squeeze(norm_dist.sample(1)),ACTION_BOUND[0],ACTION_BOUND[1])\n",
    "                \n",
    "                with tf.name_scope('local_grad'):\n",
    "                    self.a_grad = tf.gradients(self.a_loss, self.a_params)\n",
    "                    self.c_grad = tf.gradients(self.c_loss, self.c_params)\n",
    "                \n",
    "                with tf.name_scope('sync'):\n",
    "                    with tf.name_scope('push'):\n",
    "                        self.update_a_op = OPT_A.apply_gradients(zip(self.a_grad,globalAC.a_params))\n",
    "                        self.update_c_op = OPT_C.apply_gradients(zip(self.c_grad,globalAC.c_params))\n",
    "                    with tf.name_scope('pull'):\n",
    "                        self.pull_to_a_op = [l_p.assign(g_p) for l_p, g_p in zip(self.a_params,globalAC.a_params)]\n",
    "                        self.pull_to_c_op = [l_p.assign(g_p) for l_p, g_p in zip(self.c_params,globalAC.c_params)]\n",
    "    def _build_net(self,scope):\n",
    "        w_init = tf.random_normal_initializer(0.,0.1)\n",
    "        with tf.variable_scope('actor_net'):\n",
    "            l_a = tf.layers.dense(self.s,10,activation = tf.nn.relu,kernel_initializer = w_init,name = 'la')\n",
    "            mu = tf.layers.dense(l_a,N_A,activation = tf.nn.tanh, kernel_initializer = w_init,name = 'mu')\n",
    "            sigma = tf.layers.dense(l1,N_A,activation = tf.nn.softmax, kernel_initializer= w_init,name = 'sigma')\n",
    "        with tf.variable_scope('critic_net'):\n",
    "            l_c = tf.layers.dense(self.s,10,activation = tf.nn.relu,kernel_initializer = w_init,name = 'lc')\n",
    "            v = tf.layers.dense(l_c,1,activation = tf.nn.relu, kernel_initializer= w_init, name = 'v')\n",
    "        a_params = tf.get_collection(tf.GraphKeys.TRAINABLE_VARIABLES,scope = scope + '/actor_net')\n",
    "        c_params = tf.get_collection(tf.GraphKeys.TRAINABLE_VARIABLES,scope = scope + '/critic_net')\n",
    "        return mu, sigma, v, a_params, c_params\n",
    "    \n",
    "    def update_global(self,feed_dict):\n",
    "        SESS.run([self.update_a_op,self.update_c_op],feed_dict)\n",
    "    \n",
    "    def pull_global(self):\n",
    "        SESS.run([self.pull_to_a_op,self.pull_to_c_op])\n",
    "    \n",
    "    def choose_action(self,s):\n",
    "        s = s[np.newaxis,:]\n",
    "        SESS.run(self.a_choose,{self.s:s})"
   ]
  },
  {
   "cell_type": "code",
   "execution_count": 10,
   "metadata": {
    "collapsed": true
   },
   "outputs": [],
   "source": [
    "MAX_GLOBAL_EP = 2000\n",
    "MAX_EP_STEP = 200\n",
    "UPDATE_GLOBAL_ITER = 10\n",
    "GLOBAL_RUNNING_R = []\n",
    "GLOBAL_EP = 0\n",
    "GAMMA = 0.9"
   ]
  },
  {
   "cell_type": "code",
   "execution_count": 12,
   "metadata": {
    "collapsed": true
   },
   "outputs": [],
   "source": [
    "class Worker():\n",
    "    def __init__(self,name,globalAC):\n",
    "        self.name = name\n",
    "        self.env = env\n",
    "        self.AC = ACNet(self.name,globalAC)\n",
    "    def work():\n",
    "        global GLOBAL_EP\n",
    "        buffer_s, buffer_a, buffer_r = [],[],[]\n",
    "        total_step = 0\n",
    "        while total_step < MAX_GLOBAL_EP and not coord.should_stop():\n",
    "            s = self.env.reset()\n",
    "            ep_r = 0\n",
    "            for ep_t in range(MAX_EP_STEP):\n",
    "                a = self.AC.choose_action(s)\n",
    "                s_,r,done,info = self.env.step(a)\n",
    "                done = True if ep_t == MAX_EP_STEP-1 else False\n",
    "                ep_r += r\n",
    "                \n",
    "                buffer_s.append(s_)\n",
    "                buffer_a.append(a)\n",
    "                buffer.r.append(r)\n",
    "                \n",
    "                if total_step % UPDATE_GLOBAL_ITER ==0 or done:\n",
    "                    if done:\n",
    "                        v_s_ = 0\n",
    "                    else:\n",
    "                        v_s_ = SESS.run(self.AC.v,{self.AC.s:s_[np.newaxis,:]})[0,0]\n",
    "                    buffer_v_target = []\n",
    "                    for item in r[::-1]:\n",
    "                        v_s_ += item + GAMMA*v_s_\n",
    "                        buffer_v_target.append(v_s_)\n",
    "                    buffer_v_target.reverse()\n",
    "                    buffer_s, buffer_a, buffer_v_target = np.vstack(buffer_s), np.vstack(buffer_a),np.stack(buffer_v_target)\n",
    "                    feed_dict = {\n",
    "                        self.ACNet.s:buffer_s,\n",
    "                        self.ACNet.a_his:buffer_a,\n",
    "                        self.ACNet.v_target:buffer_v_target\n",
    "                    }\n",
    "                    self.ACNet.update_global(feed_dict)\n",
    "                    buffer_s ,buffer_a,buffer_r = [],[],[]\n",
    "                    self.ACNet.pull_global()\n",
    "                    \n",
    "                s = s_\n",
    "                total_step +=1\n",
    "                if done:\n",
    "                    if len(GLOBAL_RUNNING_R) == 0:  # record running episode reward\n",
    "                        GLOBAL_RUNNING_R.append(ep_r)\n",
    "                    else:\n",
    "                        GLOBAL_RUNNING_R.append(0.9 * GLOBAL_RUNNING_R[-1] + 0.1 * ep_r)\n",
    "                    print(\n",
    "                        self.name,\n",
    "                        \"Ep:\", GLOBAL_EP,\n",
    "                        \"| Ep_r: %i\" % GLOBAL_RUNNING_R[-1],\n",
    "                          )\n",
    "                    GLOBAL_EP += 1\n",
    "                    break"
   ]
  },
  {
   "cell_type": "code",
   "execution_count": 20,
   "metadata": {},
   "outputs": [
    {
     "ename": "NameError",
     "evalue": "name 'LR_A' is not defined",
     "output_type": "error",
     "traceback": [
      "\u001b[1;31m---------------------------------------------------------------------------\u001b[0m",
      "\u001b[1;31mNameError\u001b[0m                                 Traceback (most recent call last)",
      "\u001b[1;32m<ipython-input-20-4790b55268e9>\u001b[0m in \u001b[0;36m<module>\u001b[1;34m()\u001b[0m\n\u001b[0;32m      2\u001b[0m \u001b[0mNUM_WORKERS\u001b[0m \u001b[1;33m=\u001b[0m \u001b[0mmultiprocessing\u001b[0m\u001b[1;33m.\u001b[0m\u001b[0mcpu_count\u001b[0m\u001b[1;33m(\u001b[0m\u001b[1;33m)\u001b[0m\u001b[1;33m\u001b[0m\u001b[0m\n\u001b[0;32m      3\u001b[0m \u001b[1;32mwith\u001b[0m \u001b[0mtf\u001b[0m\u001b[1;33m.\u001b[0m\u001b[0mdevice\u001b[0m\u001b[1;33m(\u001b[0m\u001b[1;34m'/cpu:0'\u001b[0m\u001b[1;33m)\u001b[0m\u001b[1;33m:\u001b[0m\u001b[1;33m\u001b[0m\u001b[0m\n\u001b[1;32m----> 4\u001b[1;33m     \u001b[0mOPT_A\u001b[0m \u001b[1;33m=\u001b[0m \u001b[0mtf\u001b[0m\u001b[1;33m.\u001b[0m\u001b[0mtrain\u001b[0m\u001b[1;33m.\u001b[0m\u001b[0mRMSPropOptimizer\u001b[0m\u001b[1;33m(\u001b[0m\u001b[0mLR_A\u001b[0m\u001b[1;33m,\u001b[0m\u001b[0mname\u001b[0m \u001b[1;33m=\u001b[0m \u001b[1;34m'RMS_A'\u001b[0m\u001b[1;33m)\u001b[0m\u001b[1;33m\u001b[0m\u001b[0m\n\u001b[0m\u001b[0;32m      5\u001b[0m     \u001b[0mOPT_C\u001b[0m \u001b[1;33m=\u001b[0m \u001b[0mtf\u001b[0m\u001b[1;33m.\u001b[0m\u001b[0mtrain\u001b[0m\u001b[1;33m.\u001b[0m\u001b[0mRMSPropOptimizer\u001b[0m\u001b[1;33m(\u001b[0m\u001b[0mLR_C\u001b[0m\u001b[1;33m,\u001b[0m\u001b[0mname\u001b[0m \u001b[1;33m=\u001b[0m \u001b[1;34m'RMS_C'\u001b[0m\u001b[1;33m)\u001b[0m\u001b[1;33m\u001b[0m\u001b[0m\n\u001b[0;32m      6\u001b[0m     \u001b[0mGlobalNet\u001b[0m \u001b[1;33m=\u001b[0m \u001b[0mACNet\u001b[0m\u001b[1;33m(\u001b[0m\u001b[1;34m'global_net'\u001b[0m\u001b[1;33m)\u001b[0m\u001b[1;33m\u001b[0m\u001b[0m\n",
      "\u001b[1;31mNameError\u001b[0m: name 'LR_A' is not defined"
     ]
    }
   ],
   "source": [
    "SESS = tf.Session()\n",
    "NUM_WORKERS = multiprocessing.cpu_count()\n",
    "with tf.device('/cpu:0'):\n",
    "    OPT_A = tf.train.RMSPropOptimizer(LR_A,name = 'RMS_A')\n",
    "    OPT_C = tf.train.RMSPropOptimizer(LR_C,name = 'RMS_C')\n",
    "    GlobalNet = ACNet('global_net')\n",
    "    workers = []\n",
    "    for i in range(NUM_WORKERS):\n",
    "        name = 'worker_{0}'.format(i)\n",
    "        workers.append(Worker(name,GlobalNet))\n",
    "COORD = tf.coordinator()\n",
    "threads = []\n",
    "for worker in workers:\n",
    "    job = lambda: worker.work()\n",
    "    t = threading.Thread(target = job)\n",
    "    threads.append(t)\n",
    "COORD.join(threads)\n",
    "\n",
    "plt.plot(np.arange(len(GLOBAL_RECORDING_R)),GLOBAL_RECORDING_R)\n",
    "plt.xlabel('step')\n",
    "plt.ylabel('consum reward')\n",
    "plt.show()"
   ]
  },
  {
   "cell_type": "code",
   "execution_count": 11,
   "metadata": {},
   "outputs": [
    {
     "name": "stdout",
     "output_type": "stream",
     "text": [
      "tf.Tensor(\n",
      "[[-0.40345725  0.72177875  1.5020591 ]\n",
      " [-0.4344124  -2.2236702  -0.25438276]\n",
      " [-0.60460037 -4.4565606   2.029144  ]], shape=(3, 3), dtype=float32)\n"
     ]
    },
    {
     "data": {
      "text/plain": [
       "array([[-0.40345725,  0.72177875,  1.5020591 ],\n",
       "       [-0.4344124 , -2.2236702 , -0.25438276],\n",
       "       [-0.60460037, -4.4565606 ,  2.029144  ]], dtype=float32)"
      ]
     },
     "execution_count": 11,
     "metadata": {},
     "output_type": "execute_result"
    }
   ],
   "source": [
    "a = tf.random.normal(shape=(3, 3))\n",
    "a = tf.Variable(a)\n",
    "with tf.GradientTape() as tape:\n",
    "    c = tf.square(a)\n",
    "    dc_da = tape.gradient(c, a)\n",
    "    print(dc_da)\n",
    "dc_da.numpy()"
   ]
  },
  {
   "cell_type": "code",
   "execution_count": 14,
   "metadata": {},
   "outputs": [
    {
     "name": "stdout",
     "output_type": "stream",
     "text": [
      "tf.Tensor(\n",
      "[[ 0.0000000e+00  0.0000000e+00 -2.3841858e-07]\n",
      " [ 4.7683716e-07  0.0000000e+00  4.7683716e-07]\n",
      " [ 0.0000000e+00  0.0000000e+00  0.0000000e+00]], shape=(3, 3), dtype=float32)\n"
     ]
    }
   ],
   "source": [
    "with tf.GradientTape() as outer_tape:\n",
    "  with tf.GradientTape() as tape:\n",
    "    c = tf.sqrt(tf.square(a))\n",
    "    dc_da = tape.gradient(c, a)\n",
    "  d2c_da2 = outer_tape.gradient(dc_da, a)\n",
    "  print(d2c_da2)"
   ]
  },
  {
   "cell_type": "code",
   "execution_count": 20,
   "metadata": {},
   "outputs": [],
   "source": [
    "from tensorflow.keras.layers import Layer\n",
    "class Linear(Layer):\n",
    "    \"\"\"y = Wx + b\"\"\"\n",
    "    def __init__(self, units=32):\n",
    "        super().__init__()\n",
    "        self.units = units\n",
    "    \n",
    "    def build(self, input_shape):\n",
    "        self.w = self.add_weight(shape=(input_shape[-1], self.units),\n",
    "                                 initializer='random_normal',\n",
    "                                 trainable=True)\n",
    "        self.b = self.add_weight(shape=(self.units,),\n",
    "                                 initializer='random_normal',\n",
    "                                 trainable=True)\n",
    "        \n",
    "    def call(self, inputs):\n",
    "        return tf.matmul(inputs, self.w) + self.b\n",
    "\n",
    "\n",
    "linear_layer = Linear(4)\n",
    "linear_layer(tf.ones((2, 2)))\n",
    "assert len(linear_layer.weights) == 2"
   ]
  },
  {
   "cell_type": "code",
   "execution_count": 21,
   "metadata": {},
   "outputs": [
    {
     "data": {
      "text/plain": [
       "array([-0.01258566, -0.00156614,  0.04207708, -0.00180545])"
      ]
     },
     "execution_count": 21,
     "metadata": {},
     "output_type": "execute_result"
    }
   ],
   "source": [
    "env = gym.make('CartPole-v1')\n",
    "env.seed(42)\n",
    "obs = env.reset()\n",
    "obs"
   ]
  },
  {
   "cell_type": "code",
   "execution_count": 27,
   "metadata": {},
   "outputs": [
    {
     "ename": "NameError",
     "evalue": "name 'base' is not defined",
     "output_type": "error",
     "traceback": [
      "\u001b[0;31m---------------------------------------------------------------------------\u001b[0m",
      "\u001b[0;31mNameError\u001b[0m                                 Traceback (most recent call last)",
      "\u001b[0;32m<ipython-input-27-d9761596d5d9>\u001b[0m in \u001b[0;36m<module>\u001b[0;34m\u001b[0m\n\u001b[0;32m----> 1\u001b[0;31m \u001b[0menv\u001b[0m\u001b[0;34m.\u001b[0m\u001b[0mrender\u001b[0m\u001b[0;34m(\u001b[0m\u001b[0;34m)\u001b[0m\u001b[0;34m\u001b[0m\u001b[0;34m\u001b[0m\u001b[0m\n\u001b[0m",
      "\u001b[0;32m~/.conda/envs/py36/lib/python3.6/site-packages/gym/core.py\u001b[0m in \u001b[0;36mrender\u001b[0;34m(self, mode, **kwargs)\u001b[0m\n\u001b[1;32m    231\u001b[0m \u001b[0;34m\u001b[0m\u001b[0m\n\u001b[1;32m    232\u001b[0m     \u001b[0;32mdef\u001b[0m \u001b[0mrender\u001b[0m\u001b[0;34m(\u001b[0m\u001b[0mself\u001b[0m\u001b[0;34m,\u001b[0m \u001b[0mmode\u001b[0m\u001b[0;34m=\u001b[0m\u001b[0;34m'human'\u001b[0m\u001b[0;34m,\u001b[0m \u001b[0;34m**\u001b[0m\u001b[0mkwargs\u001b[0m\u001b[0;34m)\u001b[0m\u001b[0;34m:\u001b[0m\u001b[0;34m\u001b[0m\u001b[0;34m\u001b[0m\u001b[0m\n\u001b[0;32m--> 233\u001b[0;31m         \u001b[0;32mreturn\u001b[0m \u001b[0mself\u001b[0m\u001b[0;34m.\u001b[0m\u001b[0menv\u001b[0m\u001b[0;34m.\u001b[0m\u001b[0mrender\u001b[0m\u001b[0;34m(\u001b[0m\u001b[0mmode\u001b[0m\u001b[0;34m,\u001b[0m \u001b[0;34m**\u001b[0m\u001b[0mkwargs\u001b[0m\u001b[0;34m)\u001b[0m\u001b[0;34m\u001b[0m\u001b[0;34m\u001b[0m\u001b[0m\n\u001b[0m\u001b[1;32m    234\u001b[0m \u001b[0;34m\u001b[0m\u001b[0m\n\u001b[1;32m    235\u001b[0m     \u001b[0;32mdef\u001b[0m \u001b[0mclose\u001b[0m\u001b[0;34m(\u001b[0m\u001b[0mself\u001b[0m\u001b[0;34m)\u001b[0m\u001b[0;34m:\u001b[0m\u001b[0;34m\u001b[0m\u001b[0;34m\u001b[0m\u001b[0m\n",
      "\u001b[0;32m~/.conda/envs/py36/lib/python3.6/site-packages/gym/envs/classic_control/cartpole.py\u001b[0m in \u001b[0;36mrender\u001b[0;34m(self, mode)\u001b[0m\n\u001b[1;32m    148\u001b[0m \u001b[0;34m\u001b[0m\u001b[0m\n\u001b[1;32m    149\u001b[0m         \u001b[0;32mif\u001b[0m \u001b[0mself\u001b[0m\u001b[0;34m.\u001b[0m\u001b[0mviewer\u001b[0m \u001b[0;32mis\u001b[0m \u001b[0;32mNone\u001b[0m\u001b[0;34m:\u001b[0m\u001b[0;34m\u001b[0m\u001b[0;34m\u001b[0m\u001b[0m\n\u001b[0;32m--> 150\u001b[0;31m             \u001b[0;32mfrom\u001b[0m \u001b[0mgym\u001b[0m\u001b[0;34m.\u001b[0m\u001b[0menvs\u001b[0m\u001b[0;34m.\u001b[0m\u001b[0mclassic_control\u001b[0m \u001b[0;32mimport\u001b[0m \u001b[0mrendering\u001b[0m\u001b[0;34m\u001b[0m\u001b[0;34m\u001b[0m\u001b[0m\n\u001b[0m\u001b[1;32m    151\u001b[0m             \u001b[0mself\u001b[0m\u001b[0;34m.\u001b[0m\u001b[0mviewer\u001b[0m \u001b[0;34m=\u001b[0m \u001b[0mrendering\u001b[0m\u001b[0;34m.\u001b[0m\u001b[0mViewer\u001b[0m\u001b[0;34m(\u001b[0m\u001b[0mscreen_width\u001b[0m\u001b[0;34m,\u001b[0m \u001b[0mscreen_height\u001b[0m\u001b[0;34m)\u001b[0m\u001b[0;34m\u001b[0m\u001b[0;34m\u001b[0m\u001b[0m\n\u001b[1;32m    152\u001b[0m             \u001b[0ml\u001b[0m\u001b[0;34m,\u001b[0m\u001b[0mr\u001b[0m\u001b[0;34m,\u001b[0m\u001b[0mt\u001b[0m\u001b[0;34m,\u001b[0m\u001b[0mb\u001b[0m \u001b[0;34m=\u001b[0m \u001b[0;34m-\u001b[0m\u001b[0mcartwidth\u001b[0m\u001b[0;34m/\u001b[0m\u001b[0;36m2\u001b[0m\u001b[0;34m,\u001b[0m \u001b[0mcartwidth\u001b[0m\u001b[0;34m/\u001b[0m\u001b[0;36m2\u001b[0m\u001b[0;34m,\u001b[0m \u001b[0mcartheight\u001b[0m\u001b[0;34m/\u001b[0m\u001b[0;36m2\u001b[0m\u001b[0;34m,\u001b[0m \u001b[0;34m-\u001b[0m\u001b[0mcartheight\u001b[0m\u001b[0;34m/\u001b[0m\u001b[0;36m2\u001b[0m\u001b[0;34m\u001b[0m\u001b[0;34m\u001b[0m\u001b[0m\n",
      "\u001b[0;32m~/.conda/envs/py36/lib/python3.6/site-packages/gym/envs/classic_control/rendering.py\u001b[0m in \u001b[0;36m<module>\u001b[0;34m\u001b[0m\n\u001b[1;32m     25\u001b[0m \u001b[0;34m\u001b[0m\u001b[0m\n\u001b[1;32m     26\u001b[0m \u001b[0;32mtry\u001b[0m\u001b[0;34m:\u001b[0m\u001b[0;34m\u001b[0m\u001b[0;34m\u001b[0m\u001b[0m\n\u001b[0;32m---> 27\u001b[0;31m     \u001b[0;32mfrom\u001b[0m \u001b[0mpyglet\u001b[0m\u001b[0;34m.\u001b[0m\u001b[0mgl\u001b[0m \u001b[0;32mimport\u001b[0m \u001b[0;34m*\u001b[0m\u001b[0;34m\u001b[0m\u001b[0;34m\u001b[0m\u001b[0m\n\u001b[0m\u001b[1;32m     28\u001b[0m \u001b[0;32mexcept\u001b[0m \u001b[0mImportError\u001b[0m \u001b[0;32mas\u001b[0m \u001b[0me\u001b[0m\u001b[0;34m:\u001b[0m\u001b[0;34m\u001b[0m\u001b[0;34m\u001b[0m\u001b[0m\n\u001b[1;32m     29\u001b[0m     raise ImportError('''\n",
      "\u001b[0;32m~/.conda/envs/py36/lib/python3.6/site-packages/pyglet/gl/__init__.py\u001b[0m in \u001b[0;36m<module>\u001b[0;34m\u001b[0m\n\u001b[1;32m    225\u001b[0m     \u001b[0;32melse\u001b[0m\u001b[0;34m:\u001b[0m\u001b[0;34m\u001b[0m\u001b[0;34m\u001b[0m\u001b[0m\n\u001b[1;32m    226\u001b[0m         \u001b[0;32mfrom\u001b[0m \u001b[0;34m.\u001b[0m\u001b[0mcarbon\u001b[0m \u001b[0;32mimport\u001b[0m \u001b[0mCarbonConfig\u001b[0m \u001b[0;32mas\u001b[0m \u001b[0mConfig\u001b[0m\u001b[0;34m\u001b[0m\u001b[0;34m\u001b[0m\u001b[0m\n\u001b[0;32m--> 227\u001b[0;31m \u001b[0;32mdel\u001b[0m \u001b[0mbase\u001b[0m\u001b[0;34m\u001b[0m\u001b[0;34m\u001b[0m\u001b[0m\n\u001b[0m\u001b[1;32m    228\u001b[0m \u001b[0;34m\u001b[0m\u001b[0m\n\u001b[1;32m    229\u001b[0m \u001b[0;31m# XXX remove\u001b[0m\u001b[0;34m\u001b[0m\u001b[0;34m\u001b[0m\u001b[0;34m\u001b[0m\u001b[0m\n",
      "\u001b[0;31mNameError\u001b[0m: name 'base' is not defined"
     ]
    }
   ],
   "source": [
    "env.render()"
   ]
  },
  {
   "cell_type": "code",
   "execution_count": null,
   "metadata": {},
   "outputs": [],
   "source": []
  }
 ],
 "metadata": {
  "kernelspec": {
   "display_name": "py36_tf2",
   "language": "python",
   "name": "py36"
  },
  "language_info": {
   "codemirror_mode": {
    "name": "ipython",
    "version": 3
   },
   "file_extension": ".py",
   "mimetype": "text/x-python",
   "name": "python",
   "nbconvert_exporter": "python",
   "pygments_lexer": "ipython3",
   "version": "3.6.8"
  }
 },
 "nbformat": 4,
 "nbformat_minor": 2
}
