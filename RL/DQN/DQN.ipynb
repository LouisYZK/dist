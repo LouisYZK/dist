{
 "cells": [
  {
   "cell_type": "markdown",
   "metadata": {},
   "source": [
    "# Deep Q-Learning Algorithm\n",
    "DQN 算法的伪代码如下，是Q-learning方法的扩展。\n",
    "![](http://simplecore-dev.intel.com/ai/wp-content/uploads/sites/71/deep-Q-learning-algorithm.png)"
   ]
  },
  {
   "cell_type": "markdown",
   "metadata": {},
   "source": [
    "详细的带入经验重放的DQN:\n",
    "![](https://morvanzhou.github.io/static/results/reinforcement-learning/4-1-1.jpg)"
   ]
  },
  {
   "cell_type": "code",
   "execution_count": 8,
   "metadata": {},
   "outputs": [
    {
     "name": "stderr",
     "output_type": "stream",
     "text": [
      "/home/louis/anaconda3/lib/python3.6/site-packages/h5py/__init__.py:36: FutureWarning: Conversion of the second argument of issubdtype from `float` to `np.floating` is deprecated. In future, it will be treated as `np.float64 == np.dtype(float).type`.\n",
      "  from ._conv import register_converters as _register_converters\n"
     ]
    }
   ],
   "source": [
    "import numpy as np\n",
    "import tensorflow as tf"
   ]
  },
  {
   "cell_type": "code",
   "execution_count": 18,
   "metadata": {},
   "outputs": [],
   "source": [
    "class DeepQNetwork():\n",
    "    def __init__(\n",
    "        self,\n",
    "        n_features,\n",
    "        n_actions,\n",
    "        learning_rate = 0.01,\n",
    "        reward_decay = 0.9,\n",
    "        replace_target_iter = 300,\n",
    "        e_greedy = 0.9,\n",
    "        memory_size = 500,\n",
    "        batch_size = 32,\n",
    "        e_greedy_increment = False,\n",
    "        output_graph = False\n",
    "    ):\n",
    "        self.n_features = n_features\n",
    "        self.n_actions = n_actions\n",
    "        self.lr = learning_rate\n",
    "        self.gamma = reward_decay\n",
    "        self.replace_target_iter = replace_target_iter\n",
    "        self.e_greedy_max = e_greedy\n",
    "        self.memory_size = memory_size\n",
    "        self.batch_size = batch_size\n",
    "        self.e_greedy = 0 if e_greedy_increment is None else self.e_greedy_max # greedy值越大则explore效果越强\n",
    "        \n",
    "        self.lean_step_counters = 0\n",
    "        \n",
    "        self.memory = np.zeros((self.memory_size,self.n_features*2 +2))\n",
    "        \n",
    "        self._build_net()\n",
    "        \n",
    "        t_params = tf.get_collection('target_params')\n",
    "        e_params = tf.get_collection('eval_params')\n",
    "        \n",
    "        self.replace_target_op = [tf.assign(t_param,e_param) for t_param, e_param in zip(t_params,e_params)]\n",
    "        \n",
    "        self.sess = tf.Session()\n",
    "        \n",
    "        tf.sess.run(tf.global_variables_initializer())\n",
    "        \n",
    "        if output_graph:\n",
    "            tf.summary.FileWriter('./log/DQN',sess.graph)\n",
    "            \n",
    "        self.cost_his = []\n",
    "        \n",
    "    def _bulid_net(self):\n",
    "#         evaluate_net\n",
    "        self.s = tf.placeholder(tf.float32,[None,self.n_features],name = 's')\n",
    "        self.q_target = tf.placeholder(tf.float32,[None,self.n_actions],name = 'Qtarget')\n",
    "        with tf.variable_scope('eval_net'):\n",
    "            cnames ,n_l1,w_initializer,b_initialier = ['eval_params',tf.GraphKeys.GLOBAL_VARIABLES],10\n",
    "            ,tf.random_normal_initializer(0.,0.3), tf.constant_initializer(0.1)\n",
    "            with tf.variable_scope('l1'):\n",
    "                w1 = tf.get_variable('w1',[self.n_features,n_l1],initializer=w_initializer,collections=cnames)\n",
    "                b1 = tf.get_variable('b1',[1,n_l1],initializer=b_initialier,collections= cnames)\n",
    "                l1 = tf.nn.relue(tf.matmul(self.s,w1) + b1)\n",
    "            with tf.variable_scope('l2'):\n",
    "                w2 = tf.get_variable('w2',[n_l1,self.n_actions],initializer=w_initializer,collections=cnames)\n",
    "                b2 = tf.get_variable('b2',[1,n_actions],initializer=b_initialier,collections=cnames)\n",
    "                self.q_eval = tf.matmul(l1,w2) + b2\n",
    "        with tf.variable_scope('loss'):\n",
    "            self.loss = tf.losses.mean_squared_error(self.q_eval,self.q_target)\n",
    "        with tf.variable_scope('train'):\n",
    "            self._train_op = tf.train.RMSPropOptimizer(lr).minimize(self.loss)\n",
    "        \n",
    "#         target net\n",
    "        self.s_ = tf.placeholder(tf.float32,[None,self.n_features],name = 's_')\n",
    "        with tf.variable_scope('target_net'):\n",
    "            cnames ,n_l1,w_initializer,b_initialier = ['target_params',tf.GraphKeys.GLOBAL_VARIABLES],10\n",
    "            ,tf.random_normal_initializer(0.,0.3), tf.constant_initializer(0.1)\n",
    "            with tf.variable_scope('l1'):\n",
    "                w1 = tf.get_variable('w1',[self.n_features,n_l1],initializer=w_initializer,collections=cnames)\n",
    "                b1 = tf.get_variable('b1',[1,n_l1],initializer=b_initialier,collections= cnames)\n",
    "                l1 = tf.nn.relue(tf.matmul(self.s,w1) + b1)\n",
    "            with tf.variable_scope('l2'):\n",
    "                w2 = tf.get_variable('w2',[n_l1,self.n_actions],initializer=w_initializer,collections=cnames)\n",
    "                b2 = tf.get_variable('b2',[1,n_actions],initializer=b_initialier,collections=cnames)\n",
    "                self.q_next = tf.matmul(l1,w2) + b2\n",
    "        "
   ]
  },
  {
   "cell_type": "code",
   "execution_count": 15,
   "metadata": {},
   "outputs": [
    {
     "ename": "SyntaxError",
     "evalue": "invalid syntax (<ipython-input-15-20060607812a>, line 1)",
     "output_type": "error",
     "traceback": [
      "\u001b[0;36m  File \u001b[0;32m\"<ipython-input-15-20060607812a>\"\u001b[0;36m, line \u001b[0;32m1\u001b[0m\n\u001b[0;31m    a = (1<2):1?2\u001b[0m\n\u001b[0m             ^\u001b[0m\n\u001b[0;31mSyntaxError\u001b[0m\u001b[0;31m:\u001b[0m invalid syntax\n"
     ]
    }
   ],
   "source": []
  },
  {
   "cell_type": "code",
   "execution_count": null,
   "metadata": {},
   "outputs": [],
   "source": []
  }
 ],
 "metadata": {
  "kernelspec": {
   "display_name": "Python 3",
   "language": "python",
   "name": "python3"
  },
  "language_info": {
   "codemirror_mode": {
    "name": "ipython",
    "version": 3
   },
   "file_extension": ".py",
   "mimetype": "text/x-python",
   "name": "python",
   "nbconvert_exporter": "python",
   "pygments_lexer": "ipython3",
   "version": "3.6.5"
  }
 },
 "nbformat": 4,
 "nbformat_minor": 2
}
