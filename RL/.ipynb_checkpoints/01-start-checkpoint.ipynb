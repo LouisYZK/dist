{
 "cells": [
  {
   "cell_type": "code",
   "execution_count": 2,
   "metadata": {},
   "outputs": [
    {
     "name": "stdout",
     "output_type": "stream",
     "text": [
      "   left  right\n",
      "0   0.0    0.0\n",
      "1   0.0    0.0\n",
      "2   0.0    0.0\n",
      "3   0.0    0.0\n",
      "4   0.0    0.0\n",
      "5   0.0    0.0\n"
     ]
    }
   ],
   "source": [
    "import numpy as np\n",
    "import pandas as pd\n",
    "ACTIONS = ['left','right']\n",
    "STATE = 6\n",
    "GREEDY_RATE = 0.9 # trade off between exploration and exploitation\n",
    "ALPHA = 0.1 # learning rate\n",
    "GAMMA = 0.9 # discount rate\n",
    "MAX_EPISODES = 13 # max episodes\n",
    "FRESH_TIME = 0.01 # update time \n",
    "np.random.seed(100)\n",
    "def build_q_table(state,actions):\n",
    "    table = pd.DataFrame(data = np.zeros((state,len(actions))),columns = actions)\n",
    "    return table\n",
    "print(build_q_table(STATE,ACTIONS))"
   ]
  },
  {
   "cell_type": "code",
   "execution_count": 18,
   "metadata": {},
   "outputs": [
    {
     "name": "stdout",
     "output_type": "stream",
     "text": [
      "right\n"
     ]
    }
   ],
   "source": [
    "table = build_q_table(STATE,ACTIONS)\n",
    "def choose_action(state,q_table):\n",
    "    table_actions = q_table.iloc[state,:]\n",
    "    if np.random.uniform()<GREEDY_RATE or ((table_actions ==0).all()):\n",
    "        action = np.random.choice(ACTIONS)\n",
    "    else:\n",
    "        action = table_actions.idxmax()\n",
    "    return action"
   ]
  },
  {
   "cell_type": "code",
   "execution_count": 1,
   "metadata": {},
   "outputs": [
    {
     "name": "stdout",
     "output_type": "stream",
     "text": [
      "(1, 2)\n"
     ]
    }
   ],
   "source": []
  },
  {
   "cell_type": "code",
   "execution_count": null,
   "metadata": {
    "collapsed": true
   },
   "outputs": [],
   "source": []
  }
 ],
 "metadata": {
  "kernelspec": {
   "display_name": "Python [conda root]",
   "language": "python",
   "name": "conda-root-py"
  },
  "language_info": {
   "codemirror_mode": {
    "name": "ipython",
    "version": 3
   },
   "file_extension": ".py",
   "mimetype": "text/x-python",
   "name": "python",
   "nbconvert_exporter": "python",
   "pygments_lexer": "ipython3",
   "version": "3.6.6"
  }
 },
 "nbformat": 4,
 "nbformat_minor": 2
}
