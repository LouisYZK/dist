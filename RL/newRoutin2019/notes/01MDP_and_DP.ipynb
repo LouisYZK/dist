{
 "cells": [
  {
   "cell_type": "markdown",
   "metadata": {},
   "source": [
    "# Markov Decision Process and Dynamic Programming\n",
    "- Date: Match 2019\n",
    "- Describe: 2nd session of RL studying\n",
    "\n",
    "**content**"
   ]
  },
  {
   "cell_type": "markdown",
   "metadata": {},
   "source": [
    "## MDP problems set up\n",
    "MDP要素：$<\\mathcal{S}, \\mathcal{A}, \\mathcal{P}, \\mathcal{R},\\gamma>$\n",
    "\n",
    "$P_{ss'}^a=P(S_{t+1}=s'|S_t=s,A_t=a)$\n",
    "    \n",
    "$R_{s}^a=\\mathbb{E}_{\\pi}[R_{t+1}|S_t=s,A_t=a]$\n",
    "    \n",
    "$G_t=\\sum_{k=0}^\\infty\\gamma^k R_{t+1+k}$\n",
    "\n",
    "$V_\\pi(a)=\\mathbb{E}[G_t|S_t=s]$\n",
    "\n",
    "$Q_\\pi(s,a)=\\mathbb{E}[G_t|S_t=s,A_t=a]$\n",
    "\n",
    "$\\pi(a|s)=\\mathbb{P}(A_t=a|S_t=s)$\n",
    "\n",
    "$R_{t+1}=R_{t+1}(S_t,A_t,S_{t+1})$\n",
    "\n",
    "$P_{ss'}^\\pi=\\mathbb{P}(S_{t+1}=s'|S_t=s)=\\sum_{a}\\pi(a|s)P_{ss'}^a$\n",
    "\n",
    "$R_{s}^\\pi=\\sum_{a}\\pi(a|s)R_{s}^a$"
   ]
  }
 ],
 "metadata": {
  "kernelspec": {
   "display_name": "Python 3",
   "language": "python",
   "name": "python3"
  },
  "language_info": {
   "codemirror_mode": {
    "name": "ipython",
    "version": 3
   },
   "file_extension": ".py",
   "mimetype": "text/x-python",
   "name": "python",
   "nbconvert_exporter": "python",
   "pygments_lexer": "ipython3",
   "version": "3.7.2"
  }
 },
 "nbformat": 4,
 "nbformat_minor": 2
}
